{
 "cells": [
  {
   "cell_type": "markdown",
   "id": "9c9943e7-a5a9-4174-9902-39721e183fb0",
   "metadata": {},
   "source": [
    "Q1. What is Abstraction in OOps? Explain with an example."
   ]
  },
  {
   "cell_type": "markdown",
   "id": "68dc9b53-7a0d-4e99-8a02-02ac1450f8f1",
   "metadata": {},
   "source": [
    "Solution:\n",
    "-  In Object-Oriented Programming (OOP), abstraction refers to the process of hiding complex implementation details of an object and providing a simpler interface for the user to interact with the object.\n",
    "\n",
    "-  For example, let's consider a car object. A car has various components such as an engine, wheels, transmission, steering wheel, and so on. These components have their own properties and behaviors that contribute to the functioning of the car. However, as a user of the car, we don't need to know all the details about how each component works. Instead, we interact with the car through a simplified interface such as the accelerator pedal, brake pedal, steering wheel, and gear lever.\n",
    "\n",
    "-  In this example, the car object is abstracted from its complex implementation details, and we interact with it through a simplified interface. This makes it easier for us to use the car, without having to worry about the details of how it works."
   ]
  },
  {
   "cell_type": "markdown",
   "id": "95f075ad-1964-4950-9098-2c5536ba6c63",
   "metadata": {},
   "source": [
    "Q2. Differentiate between Abstraction and Encapsulation. Explain with an example."
   ]
  },
  {
   "cell_type": "markdown",
   "id": "309a4403-1178-422f-bfad-2aa0618020a5",
   "metadata": {},
   "source": [
    "Solution:\n",
    "-  Abstraction is the process of hiding complex implementation details of an object and providing a simpler interface for the user to interact with the object. Abstraction is about focusing on the essential features of an object, rather than its implementation details. It helps to reduce complexity, increase code reusability, and improve maintainability.\n",
    "\n",
    "-  Encapsulation, on the other hand, is the process of binding data and the methods that operate on that data into a single unit, i.e., a class. Encapsulation provides a way to protect the data from external interference and unauthorized access, and it allows for better control over the behavior of the object. Encapsulation helps to improve data security, code modularity, and code maintainability.\n",
    "\n",
    "Here's an example to illustrate the difference between abstraction and encapsulation:\n",
    "\n",
    "- Let's consider a bank account object. The bank account has various attributes, such as the account holder's name, account number, balance, and so on. The account also has methods, such as deposit, withdraw, and check balance.\n",
    "\n",
    "-  Abstraction in this case would involve hiding the details of how the account works, and providing a simpler interface for the user to interact with the account. For example, the user might interact with the account through methods such as deposit, withdraw, and check balance, without having to know how these methods work internally.\n",
    "\n",
    "-  Encapsulation in this case would involve binding the account's attributes and methods into a single unit, i.e., a class. The class would define the attributes and methods of the account, and provide access to these attributes and methods through a well-defined interface. Encapsulation would also provide access control mechanisms to prevent unauthorized access to the account's attributes and methods."
   ]
  },
  {
   "cell_type": "markdown",
   "id": "a2b2f21b-c786-4eb0-b018-03eaee47c98c",
   "metadata": {},
   "source": [
    "Q3. What is abc module in python? Why is it used?"
   ]
  },
  {
   "cell_type": "markdown",
   "id": "f04daad8-44a5-4637-8ccc-0cdcccfa02ec",
   "metadata": {},
   "source": [
    "Solution:\n",
    "-  The abc module in Python stands for Abstract Base Classes. It is a module that provides a way to define abstract classes in Python.\n",
    "\n",
    "-  Abstract classes are classes that cannot be instantiated directly, but can only be subclassed.\n",
    "\n",
    "-  The abc module is used to enforce the use of a specific interface in a subclass. By defining an abstract class, you are defining a contract that any subclass must adhere to. This helps to improve code reliability and maintainability, as it ensures that subclasses implement the required methods and interfaces."
   ]
  },
  {
   "cell_type": "markdown",
   "id": "b47ea466-0e38-49b1-978e-7b3d1f68fc40",
   "metadata": {},
   "source": [
    "Q4. How can we achieve data abstraction?"
   ]
  },
  {
   "cell_type": "markdown",
   "id": "2222e67e-d5a8-4c85-97a8-1ed3d4ea6380",
   "metadata": {},
   "source": [
    "Solution:\n",
    "-  Data abstraction involves hiding the implementation details of an object and providing a simpler interface for the user to interact with the object. This is done by defining the attributes and methods of the object in a class, and then exposing only the necessary attributes and methods to the user. The user interacts with the object through this simplified interface, without having to know about the object's implementation details.\n",
    "\n",
    "Here are some steps to achieve data abstraction in Python:\n",
    "\n",
    "1. Define a class: Define a class that represents the object you want to abstract. This class should contain the attributes and methods of the object.\n",
    "\n",
    "2. Hide implementation details: To achieve data abstraction, we need to hide the implementation details of the class. This means that we should not expose the attributes of the class directly to the user. Instead, we should provide methods that allow the user to interact with the attributes in a controlled way.\n",
    "\n",
    "3. Use the class: To use the class, we create an instance of the class and interact with it through its methods."
   ]
  },
  {
   "cell_type": "markdown",
   "id": "d67d81f8-dc8d-4eba-9fb6-08a5030a5a17",
   "metadata": {},
   "source": [
    "Q5. Can we create an instance of an abstract class? Explain your answer."
   ]
  },
  {
   "cell_type": "markdown",
   "id": "bd140795-d5cb-4527-aa04-25e1baa0c382",
   "metadata": {},
   "source": [
    "Solution:\n",
    "-  No, we cannot create an instance of an abstract class in Python or any other object-oriented programming language.\n",
    "\n",
    "-  An abstract class is a class that contains one or more abstract methods. An abstract method is a method that is declared but does not have an implementation. Instead, the implementation of the abstract method is provided by the concrete subclass that inherits from the abstract class.\n",
    "\n",
    "-  Since an abstract class is incomplete, it cannot be instantiated directly. It can only be used as a blueprint for creating concrete subclasses. The purpose of an abstract class is to provide a common interface for all its subclasses, while allowing each subclass to provide its own implementation for the abstract methods."
   ]
  }
 ],
 "metadata": {
  "kernelspec": {
   "display_name": "Python 3 (ipykernel)",
   "language": "python",
   "name": "python3"
  },
  "language_info": {
   "codemirror_mode": {
    "name": "ipython",
    "version": 3
   },
   "file_extension": ".py",
   "mimetype": "text/x-python",
   "name": "python",
   "nbconvert_exporter": "python",
   "pygments_lexer": "ipython3",
   "version": "3.10.8"
  }
 },
 "nbformat": 4,
 "nbformat_minor": 5
}
