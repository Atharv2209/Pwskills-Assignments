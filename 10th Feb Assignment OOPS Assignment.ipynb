{
 "cells": [
  {
   "cell_type": "markdown",
   "id": "4be7bac6-b98c-4cd5-8672-9afab33843fc",
   "metadata": {},
   "source": [
    "Q1. Which function is used to open a file? What are the different modes of opening a file? Explain each mode\n",
    "of file opening."
   ]
  },
  {
   "cell_type": "markdown",
   "id": "76c69023-11bc-40dc-9674-3b951d918477",
   "metadata": {},
   "source": [
    "Solution:\n",
    "\n",
    "-  In Python, the open() function is used to open a file. This function takes in two parameters: the name of the file to be opened and the mode in which the file is to be opened.\n",
    "\n",
    "-  There are several modes in which a file can be opened. Each mode has its own specific purpose and behavior. Here are the different modes of opening a file in Python:\n",
    "\n",
    "1. r: This mode is used to open a file for reading. If the file doesn't exist, it will result in a FileNotFoundError error. This is the default mode of opening a file.\n",
    "\n",
    "2. w: This mode is used to open a file for writing. If the file already exists, its contents will be overwritten. If the file doesn't exist, a new file will be created.\n",
    "\n",
    "3. a: This mode is used to open a file for appending. If the file already exists, the new data will be written at the end of the file. If the file doesn't exist, a new file will be created.\n",
    "\n",
    "4. x: This mode is used to open a file for exclusive creation. If the file already exists, a FileExistsError error will be raised.\n",
    "\n",
    "5. b: This mode is used to open a file in binary mode. This is used for non-text files, like images and audio files.\n",
    "\n",
    "6. t: This mode is used to open a file in text mode. This is used for text files, like .txt and .csv files.\n",
    "\n",
    "7. +: This mode is used to open a file for both reading and writing."
   ]
  },
  {
   "cell_type": "markdown",
   "id": "551e7d84-071d-4f0e-be82-0806b873ece3",
   "metadata": {},
   "source": [
    "Q2. Why close() function is used? Why is it important to close a file?"
   ]
  },
  {
   "cell_type": "markdown",
   "id": "235c09ab-4bf4-462f-876e-fd8e883798b1",
   "metadata": {},
   "source": [
    "Solution:\n",
    "\n",
    "-  In Python, the close() function is used to close a file that has been opened using the open() function. \n",
    "-  It is important to close a file after using it because:\n",
    "\n",
    "1. Resource Management: When a file is opened, it takes up system resources like memory and file descriptors. If the file is not closed properly, these resources will remain occupied, leading to resource leakage and potential performance issues. Closing the file releases these resources, making them available for other processes.\n",
    "\n",
    "2.  Data Integrity: When a file is written to, the data is first written to a buffer before being written to the disk. If the file is not closed properly, the buffer may not be flushed, which means that the data may not be completely written to the disk. Closing the file ensures that the buffer is flushed, ensuring data integrity.\n",
    "\n",
    "3.  File Corruption: If a file is not closed properly and the program is terminated unexpectedly, the file may become corrupted. This can happen because the file was not completely written to the disk, or because the file was not properly closed. Closing the file ensures that the file is properly written to the disk, reducing the risk of file corruption."
   ]
  },
  {
   "cell_type": "markdown",
   "id": "99f1f187-0a3b-485b-9b9c-81c2875d19b2",
   "metadata": {},
   "source": [
    "Q3. Write a python program to create a text file. Write ‘I want to become a Data Scientist’ in that file. Then\n",
    "close the file. Open this file and read the content of the file."
   ]
  },
  {
   "cell_type": "code",
   "execution_count": 3,
   "id": "85a92d65-f290-4e15-9404-30d863b88f90",
   "metadata": {},
   "outputs": [],
   "source": [
    "file = open(\"data_scientist.txt\", \"w\")"
   ]
  },
  {
   "cell_type": "code",
   "execution_count": 4,
   "id": "a40433f7-c061-45ef-81e4-75e9d73c75ee",
   "metadata": {},
   "outputs": [
    {
     "data": {
      "text/plain": [
       "33"
      ]
     },
     "execution_count": 4,
     "metadata": {},
     "output_type": "execute_result"
    }
   ],
   "source": [
    "file.write(\"I want to become a Data Scientist\")"
   ]
  },
  {
   "cell_type": "code",
   "execution_count": 5,
   "id": "0dfe5e6f-f48c-4641-b263-7eeba24d66ae",
   "metadata": {},
   "outputs": [],
   "source": [
    "file.close()"
   ]
  },
  {
   "cell_type": "code",
   "execution_count": 6,
   "id": "2efa0283-0652-4fca-bd80-8decc1f651d3",
   "metadata": {},
   "outputs": [],
   "source": [
    "file = open(\"data_scientist.txt\", \"r\")"
   ]
  },
  {
   "cell_type": "code",
   "execution_count": 7,
   "id": "65fe56d4-769d-4547-811a-278821475e27",
   "metadata": {},
   "outputs": [],
   "source": [
    "contents =  file.read()"
   ]
  },
  {
   "cell_type": "code",
   "execution_count": 8,
   "id": "e3026525-45ce-4075-9297-1a400bcdae0b",
   "metadata": {},
   "outputs": [
    {
     "data": {
      "text/plain": [
       "'I want to become a Data Scientist'"
      ]
     },
     "execution_count": 8,
     "metadata": {},
     "output_type": "execute_result"
    }
   ],
   "source": [
    "contents"
   ]
  },
  {
   "cell_type": "markdown",
   "id": "c8b5ae04-31cf-403d-a07c-f4f245fad2e9",
   "metadata": {},
   "source": [
    "Q4. Explain the following with python code: read(), readline() and readlines()."
   ]
  },
  {
   "cell_type": "markdown",
   "id": "dc70d730-f789-4f1f-8dcc-2f4f35693330",
   "metadata": {},
   "source": [
    "Solution:\n",
    "\n",
    "-  In Python, there are several ways to read data from a file. The three most common methods are read(), readline(), and readlines(). Here's an explanation of each method along with sample Python code:\n",
    "\n",
    "-  First, we'll create a file"
   ]
  },
  {
   "cell_type": "code",
   "execution_count": 100,
   "id": "3fc09b56-ac74-42bc-940d-ef91794f54d6",
   "metadata": {},
   "outputs": [],
   "source": [
    "file = open(\"example.txt\", \"w\")"
   ]
  },
  {
   "cell_type": "code",
   "execution_count": 101,
   "id": "f35a3c69-5f5e-4953-af42-1382b50a65d3",
   "metadata": {},
   "outputs": [
    {
     "data": {
      "text/plain": [
       "24"
      ]
     },
     "execution_count": 101,
     "metadata": {},
     "output_type": "execute_result"
    }
   ],
   "source": [
    "file.write(\"This is the first line.\\n\")\n",
    "file.write(\"This is the second line.\\n\")\n",
    "file.write(\"This is the third line.\\n\")"
   ]
  },
  {
   "cell_type": "code",
   "execution_count": 102,
   "id": "f7b537f6-d4a7-4de8-b597-c40f084330c4",
   "metadata": {},
   "outputs": [],
   "source": [
    "file.close()"
   ]
  },
  {
   "cell_type": "markdown",
   "id": "6cad68e2-741f-414d-9e1c-00402d02b038",
   "metadata": {},
   "source": [
    "1.  read() method: This method reads the entire content of the file and returns it as a string.\n",
    "\n",
    "Example:"
   ]
  },
  {
   "cell_type": "code",
   "execution_count": 103,
   "id": "f9dfb39e-cfb8-42a6-8b72-71bc38c1fa56",
   "metadata": {},
   "outputs": [],
   "source": [
    "file = open(\"example.txt\", \"r\")"
   ]
  },
  {
   "cell_type": "code",
   "execution_count": 104,
   "id": "074d2bb6-0bb8-4c41-8be4-5df5bde7b30b",
   "metadata": {},
   "outputs": [],
   "source": [
    "content = file.read()"
   ]
  },
  {
   "cell_type": "code",
   "execution_count": 106,
   "id": "25951e6b-105b-48e6-a891-582b1737f56d",
   "metadata": {},
   "outputs": [
    {
     "name": "stdout",
     "output_type": "stream",
     "text": [
      "Using read():\n",
      "This is the first line.\n",
      "This is the second line.\n",
      "This is the third line.\n",
      "\n"
     ]
    }
   ],
   "source": [
    "print(\"Using read():\\n\" + content)"
   ]
  },
  {
   "cell_type": "code",
   "execution_count": 85,
   "id": "3c560f15-61c2-4208-9ec6-da4b91bc9ba9",
   "metadata": {},
   "outputs": [],
   "source": [
    "file.close()"
   ]
  },
  {
   "cell_type": "markdown",
   "id": "e3b04fa2-3a31-42bb-b274-efcbaf18606f",
   "metadata": {},
   "source": [
    "2.  readline() method: This method reads one line of the file at a time and returns it as a string.\n",
    "\n",
    "Example:"
   ]
  },
  {
   "cell_type": "code",
   "execution_count": 1,
   "id": "aa820638-bc61-4fda-92dd-93c4590c4967",
   "metadata": {},
   "outputs": [],
   "source": [
    "file = open(\"example.txt\", \"r\")"
   ]
  },
  {
   "cell_type": "code",
   "execution_count": 5,
   "id": "ac856d6e-e1c9-4edb-b9bb-f2f29b3f54f5",
   "metadata": {},
   "outputs": [
    {
     "name": "stdout",
     "output_type": "stream",
     "text": [
      "Using readline():\n",
      "This is the first line.\n",
      "This is the second line.\n",
      "\n"
     ]
    }
   ],
   "source": [
    "file.seek(0)\n",
    "line1 = file.readline()\n",
    "line2= file.readline()\n",
    "print(\"Using readline():\\n\" + line1 + line2)"
   ]
  },
  {
   "cell_type": "code",
   "execution_count": 6,
   "id": "7f92d393-2caa-4a93-8121-a30c2ca68cb8",
   "metadata": {},
   "outputs": [],
   "source": [
    "file.close()"
   ]
  },
  {
   "cell_type": "markdown",
   "id": "a87951e7-996a-4a55-82e5-146992e97cc8",
   "metadata": {},
   "source": [
    "3. readlines() method: This method reads all the lines of the file at once and returns them as a list of strings.\n",
    "\n",
    "Example:"
   ]
  },
  {
   "cell_type": "code",
   "execution_count": 8,
   "id": "aed65d83-d162-4127-8a71-9628a8362773",
   "metadata": {},
   "outputs": [],
   "source": [
    "file = open(\"example.txt\", \"r\")"
   ]
  },
  {
   "cell_type": "code",
   "execution_count": 10,
   "id": "680bb607-e1c2-4655-ab03-83f5f1a1749c",
   "metadata": {},
   "outputs": [
    {
     "name": "stdout",
     "output_type": "stream",
     "text": [
      "Using readlines():\n",
      "This is the first line.\n",
      "\n",
      "This is the second line.\n",
      "\n",
      "This is the third line.\n",
      "\n"
     ]
    }
   ],
   "source": [
    "file.seek(0)\n",
    "lines = file.readlines()\n",
    "print(\"Using readlines():\")\n",
    "for line in lines:\n",
    "    print(line)"
   ]
  },
  {
   "cell_type": "code",
   "execution_count": 11,
   "id": "e7b47ff6-061b-45e9-8673-78025191ce86",
   "metadata": {},
   "outputs": [],
   "source": [
    "file.close()"
   ]
  },
  {
   "cell_type": "markdown",
   "id": "c75bbe96-86a8-43a9-acf9-abb3548ffc3b",
   "metadata": {},
   "source": [
    "Q5. Explain why with statement is used with open(). What is the advantage of using with statement and\n",
    "open() together?"
   ]
  },
  {
   "cell_type": "markdown",
   "id": "ec95c489-724b-44b9-8790-4be3efe76332",
   "metadata": {},
   "source": [
    "Solution:\n",
    "- In Python, the with statement provides a way to manage resources such as files, network connections, etc. in a safe and efficient way. The with statement is often used with the open() function when working with files.\n",
    "\n",
    "- When you use the with statement with open(), Python takes care of closing the file for you automatically, regardless of how the block exits. This means that even if an exception occurs while the block is running, the file will still be closed properly.\n",
    "\n",
    "- Here's an example of how to use the with statement with open() to read the contents of a file:"
   ]
  },
  {
   "cell_type": "code",
   "execution_count": 16,
   "id": "7abded67-1a80-4faf-8f10-0353b8dcc69d",
   "metadata": {},
   "outputs": [
    {
     "name": "stdout",
     "output_type": "stream",
     "text": [
      "This is the first line.\n",
      "This is the second line.\n",
      "This is the third line.\n",
      "\n"
     ]
    }
   ],
   "source": [
    "with open(\"example.txt\", \"r\") as f:\n",
    "    content = f.read()\n",
    "    print(content)\n"
   ]
  },
  {
   "cell_type": "markdown",
   "id": "93d373e3-b166-4ff3-afb9-ad2d341b2080",
   "metadata": {},
   "source": [
    "- Using with statement with open() has several advantages over manually opening and closing files. Some of the benefits are:\n",
    "\n",
    "-Automatic resource management: As mentioned earlier, the with statement automatically closes the file for you, even if an exception occurs. This helps ensure that the file is properly closed and prevents resource leaks.\n",
    "\n",
    "-Cleaner code: Using with statement with open() makes the code cleaner and more readable. You don't need to remember to close the file manually or worry about what happens if an exception occurs.\n",
    "\n",
    "-Better performance: Using with statement with open() is generally faster than manually opening and closing files. This is because the with statement is optimized for performance and only opens the file when it needs to, and closes it as soon as the block is finished."
   ]
  },
  {
   "cell_type": "markdown",
   "id": "8daf7728-240d-471d-9d95-7ebd75e76b1a",
   "metadata": {},
   "source": [
    "Q6. Explain the write() and writelines() functions. Give a suitable example."
   ]
  },
  {
   "cell_type": "markdown",
   "id": "f28bbb36-92ec-434d-995e-c75cbd18f4b2",
   "metadata": {},
   "source": [
    "Solution:\n",
    "- The write() and writelines() functions are used to write data to a file in Python.\n",
    "\n",
    "- The write() function is used to write a single string of data to a file. The string can be any data type that can be converted to a string. If the file does not exist, it will be created. If the file already exists, the write() function will overwrite the existing content of the file with the new content.\n",
    "\n",
    "- Here's an example of how to use the write() function to write a string of data to a file:"
   ]
  },
  {
   "cell_type": "code",
   "execution_count": 18,
   "id": "845870e3-fcab-4f77-bdff-6372c4d30636",
   "metadata": {},
   "outputs": [],
   "source": [
    "file = open(\"example1.txt\", \"w\")\n",
    "file.write(\"This is an example1 file.\")\n",
    "file.close()"
   ]
  },
  {
   "cell_type": "markdown",
   "id": "71dd1781-f961-4306-96b9-97196b1c424f",
   "metadata": {},
   "source": [
    "- The writelines() function is used to write multiple lines of data to a file. It takes a sequence of strings (such as a list or tuple) as input, and writes each string as a separate line to the file. If the file does not exist, it will be created. If the file already exists, the writelines() function will overwrite the existing content of the file with the new content.\n",
    "\n",
    "- Here's an example of how to use the writelines() function to write multiple lines of data to a file:"
   ]
  },
  {
   "cell_type": "code",
   "execution_count": 26,
   "id": "e6d3d69a-e85b-4b4c-8bfc-5302ab3ba3bb",
   "metadata": {},
   "outputs": [],
   "source": [
    "file = open(\"example2.txt\", \"w\")\n",
    "lines = [\"This is the first line.\", \"This is the second line.\", \"This is the third line.\"]\n",
    "file.writelines(lines)\n",
    "file.close()"
   ]
  }
 ],
 "metadata": {
  "kernelspec": {
   "display_name": "Python 3 (ipykernel)",
   "language": "python",
   "name": "python3"
  },
  "language_info": {
   "codemirror_mode": {
    "name": "ipython",
    "version": 3
   },
   "file_extension": ".py",
   "mimetype": "text/x-python",
   "name": "python",
   "nbconvert_exporter": "python",
   "pygments_lexer": "ipython3",
   "version": "3.10.8"
  }
 },
 "nbformat": 4,
 "nbformat_minor": 5
}
