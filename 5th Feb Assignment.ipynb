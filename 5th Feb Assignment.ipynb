{
 "cells": [
  {
   "cell_type": "markdown",
   "id": "6c32d1e2-c117-411b-b2a9-9493b09bf0f5",
   "metadata": {},
   "source": [
    "Q1. Explain Class and Object with respect to Object-Oriented Programming. Give a suitable example."
   ]
  },
  {
   "cell_type": "markdown",
   "id": "ae395d71-4795-498d-a92d-48bca8b6a08e",
   "metadata": {},
   "source": [
    "SOLUTION-\n",
    "\n",
    "-  class is the classification of a real world entity  \n",
    "-  blueprint of a real world entity but not a specific to a real world entity  \n",
    "-  class makes code more structured and reusable"
   ]
  },
  {
   "cell_type": "markdown",
   "id": "1071c2f0-6b43-4430-8302-b53466336cc3",
   "metadata": {},
   "source": [
    "and"
   ]
  },
  {
   "cell_type": "markdown",
   "id": "a6983cb1-b6f9-405f-9517-7e8047ceb44a",
   "metadata": {},
   "source": [
    "-  object is a real world entity (variable/instance)"
   ]
  },
  {
   "cell_type": "markdown",
   "id": "7855b801-33ae-465f-a690-c27870227c35",
   "metadata": {},
   "source": [
    "EXAMPLE-"
   ]
  },
  {
   "cell_type": "code",
   "execution_count": 2,
   "id": "e4af39be-c62c-4437-8d8a-18b33537af6c",
   "metadata": {},
   "outputs": [],
   "source": [
    "class Person:\n",
    "    def __init__(self, name, age):\n",
    "        self.name = name\n",
    "        self.age = age\n",
    "        \n",
    "    def greet(self):\n",
    "        print(f\"Hello, my name is {self.name} and I am {self.age} years old.\")"
   ]
  },
  {
   "cell_type": "code",
   "execution_count": 3,
   "id": "7252a9e3-3894-4be3-968a-9f84cce3b735",
   "metadata": {},
   "outputs": [],
   "source": [
    "Person1 = Person(\"Shubham\" , 22)"
   ]
  },
  {
   "cell_type": "code",
   "execution_count": 6,
   "id": "ea81d494-a112-49eb-92fa-264bbb9ff153",
   "metadata": {},
   "outputs": [
    {
     "data": {
      "text/plain": [
       "'Shubham'"
      ]
     },
     "execution_count": 6,
     "metadata": {},
     "output_type": "execute_result"
    }
   ],
   "source": [
    "Person1.name"
   ]
  },
  {
   "cell_type": "code",
   "execution_count": 7,
   "id": "498511c2-41ba-4c2c-97eb-02561f88f9a6",
   "metadata": {},
   "outputs": [
    {
     "data": {
      "text/plain": [
       "22"
      ]
     },
     "execution_count": 7,
     "metadata": {},
     "output_type": "execute_result"
    }
   ],
   "source": [
    "Person1.age"
   ]
  },
  {
   "cell_type": "code",
   "execution_count": 8,
   "id": "eb725865-1478-4c44-87d4-3b22f0d6917b",
   "metadata": {},
   "outputs": [
    {
     "name": "stdout",
     "output_type": "stream",
     "text": [
      "Hello, my name is Shubham and I am 22 years old.\n"
     ]
    }
   ],
   "source": [
    "Person1.greet()"
   ]
  },
  {
   "cell_type": "code",
   "execution_count": 10,
   "id": "d672d552-793b-4cf7-9d47-ce23ef0afe0c",
   "metadata": {},
   "outputs": [
    {
     "name": "stdout",
     "output_type": "stream",
     "text": [
      "Hello, my name is Shubham and I am 22 years old.\n"
     ]
    }
   ],
   "source": [
    "Person2 = Person(\"Swapnil\" , 22)"
   ]
  },
  {
   "cell_type": "code",
   "execution_count": 11,
   "id": "070d461c-8429-489e-82bf-18cd44840e0c",
   "metadata": {},
   "outputs": [
    {
     "data": {
      "text/plain": [
       "'Shubham'"
      ]
     },
     "execution_count": 11,
     "metadata": {},
     "output_type": "execute_result"
    }
   ],
   "source": [
    "Person1.name"
   ]
  },
  {
   "cell_type": "code",
   "execution_count": 12,
   "id": "66bbfae2-3d9c-48fb-a98d-d86bef356d04",
   "metadata": {},
   "outputs": [
    {
     "data": {
      "text/plain": [
       "22"
      ]
     },
     "execution_count": 12,
     "metadata": {},
     "output_type": "execute_result"
    }
   ],
   "source": [
    "Person1.age"
   ]
  },
  {
   "cell_type": "code",
   "execution_count": 13,
   "id": "6f7b01cb-45fd-44cf-8d35-13276928844e",
   "metadata": {},
   "outputs": [
    {
     "name": "stdout",
     "output_type": "stream",
     "text": [
      "Hello, my name is Shubham and I am 22 years old.\n"
     ]
    }
   ],
   "source": [
    "Person1.greet()"
   ]
  },
  {
   "cell_type": "markdown",
   "id": "ac02c2b9-cadb-4cd2-a9cc-f31f20507c96",
   "metadata": {},
   "source": [
    "Q2. Name the four pillars of OOPs."
   ]
  },
  {
   "cell_type": "markdown",
   "id": "faa0eca7-66cf-4f0e-b313-1adc9e81428c",
   "metadata": {},
   "source": [
    "The four pillars of OOPs are:\n",
    "-  Inheritance\n",
    "-  Polymorphism \n",
    "-  Encapsulation\n",
    "-  Abstraction."
   ]
  },
  {
   "cell_type": "markdown",
   "id": "b73c9a74-4511-4bf6-a0f6-61906d3e4fde",
   "metadata": {},
   "source": [
    "Q3. Explain why the __init__() function is used. Give a suitable example."
   ]
  },
  {
   "cell_type": "markdown",
   "id": "12029b1d-0df5-4b8b-8bbf-00604577e943",
   "metadata": {},
   "source": [
    "SOLUTION:\n",
    "\n",
    "-  __init__() function is constructor.\n",
    "-  It is used to initialize the attributes of the object and can be used to perform any other setup that is required."
   ]
  },
  {
   "cell_type": "code",
   "execution_count": 16,
   "id": "4dd328c6-f6b5-40f2-bbb8-a5edc1a71eb3",
   "metadata": {},
   "outputs": [],
   "source": [
    "class Rectangle:\n",
    "    def __init__(self , length , width):\n",
    "        self.length = length\n",
    "        self.width = width\n",
    "        \n",
    "    def area(self):\n",
    "        return self.length * self.width"
   ]
  },
  {
   "cell_type": "code",
   "execution_count": 17,
   "id": "5cf91f79-b034-494a-be52-22977bd25722",
   "metadata": {},
   "outputs": [],
   "source": [
    "rectangle = Rectangle(5,10)"
   ]
  },
  {
   "cell_type": "code",
   "execution_count": 18,
   "id": "04dcf714-e3b9-4160-a9e1-1f5ef1115e49",
   "metadata": {},
   "outputs": [
    {
     "data": {
      "text/plain": [
       "5"
      ]
     },
     "execution_count": 18,
     "metadata": {},
     "output_type": "execute_result"
    }
   ],
   "source": [
    "rectangle.length"
   ]
  },
  {
   "cell_type": "code",
   "execution_count": 19,
   "id": "daaa15c4-fd43-44e8-974e-58ec2b6f1cf1",
   "metadata": {},
   "outputs": [
    {
     "data": {
      "text/plain": [
       "10"
      ]
     },
     "execution_count": 19,
     "metadata": {},
     "output_type": "execute_result"
    }
   ],
   "source": [
    "rectangle.width"
   ]
  },
  {
   "cell_type": "code",
   "execution_count": 20,
   "id": "c372cf04-8154-4f08-9254-6ea2e129f8d3",
   "metadata": {},
   "outputs": [
    {
     "data": {
      "text/plain": [
       "50"
      ]
     },
     "execution_count": 20,
     "metadata": {},
     "output_type": "execute_result"
    }
   ],
   "source": [
    "rectangle.area()"
   ]
  },
  {
   "cell_type": "markdown",
   "id": "b9e19e87-4a56-4427-bb63-dfc1a32095bb",
   "metadata": {},
   "source": [
    "Q4. Why self is used in OOPs?"
   ]
  },
  {
   "cell_type": "markdown",
   "id": "f4fbd5a0-0029-47ec-a3c0-4b9a83a9f85c",
   "metadata": {},
   "source": [
    "SOLUTION:\n",
    "\n",
    "-  In Object-Oriented Programming (OOP), the \"self\" keyword refers to the current instance of the class, which is being used to access its attributes and methods. \n",
    "-  The self keyword is used to distinguish between the instance variables and class variables."
   ]
  },
  {
   "cell_type": "markdown",
   "id": "54f07cd7-de04-49b5-84fc-a5c1c777fc1d",
   "metadata": {},
   "source": [
    "Q5. What is inheritance? Give an example for each type of inheritance."
   ]
  },
  {
   "cell_type": "markdown",
   "id": "5306ee57-713b-4034-aefe-fbe5cde52e74",
   "metadata": {},
   "source": [
    "SOLUTION:\n",
    "-  In object-oriented programming, inheritance is a mechanism that allows a new class to be based on an existing class, inheriting its attributes and methods. This can help to reduce duplication of code, improve code reuse, and make code easier to maintain.\n",
    "-  Types of inheritance:  \n",
    "  Single Inheritance  \n",
    "  Multi-level Inheritance  \n",
    "  Multiple Inheritance"
   ]
  },
  {
   "cell_type": "markdown",
   "id": "7dbe9873-bcbe-489e-b7ae-c5b8e6610f3f",
   "metadata": {},
   "source": [
    "#SINGLE INHERITANCE"
   ]
  },
  {
   "cell_type": "code",
   "execution_count": 1,
   "id": "e9e71788-c96e-41bd-bef1-09e76899bf12",
   "metadata": {},
   "outputs": [],
   "source": [
    "class class1:\n",
    "    def test_class1(self):\n",
    "        return \"this is from class1\""
   ]
  },
  {
   "cell_type": "code",
   "execution_count": 2,
   "id": "b08ad88b-d949-487f-b2f4-0eff0b4741fb",
   "metadata": {},
   "outputs": [],
   "source": [
    "class class2(class1):\n",
    "    def test_class2(self):\n",
    "        return \"this is from class2\""
   ]
  },
  {
   "cell_type": "code",
   "execution_count": 3,
   "id": "8c7b1c09-1847-48df-b420-1d974078cf28",
   "metadata": {},
   "outputs": [],
   "source": [
    "obj_class2 = class2()"
   ]
  },
  {
   "cell_type": "code",
   "execution_count": 4,
   "id": "0bfbd3d8-e716-4b33-a720-037081663259",
   "metadata": {},
   "outputs": [
    {
     "data": {
      "text/plain": [
       "'this is from class1'"
      ]
     },
     "execution_count": 4,
     "metadata": {},
     "output_type": "execute_result"
    }
   ],
   "source": [
    "obj_class2.test_class1()"
   ]
  },
  {
   "cell_type": "code",
   "execution_count": 5,
   "id": "918669cc-03ab-4d83-bba1-7e6217feb0f7",
   "metadata": {},
   "outputs": [
    {
     "data": {
      "text/plain": [
       "'this is from class2'"
      ]
     },
     "execution_count": 5,
     "metadata": {},
     "output_type": "execute_result"
    }
   ],
   "source": [
    "obj_class2.test_class2()"
   ]
  },
  {
   "cell_type": "markdown",
   "id": "03a37422-98ee-4370-b431-2c6b34325b6f",
   "metadata": {},
   "source": [
    "#MULTI-LEVEL INHERITANCE"
   ]
  },
  {
   "cell_type": "code",
   "execution_count": 21,
   "id": "00479a5a-1b66-4627-9158-9c029ee63f7d",
   "metadata": {},
   "outputs": [],
   "source": [
    "class class1:\n",
    "    def test_class_1(self):\n",
    "        return \"this is from class_1\""
   ]
  },
  {
   "cell_type": "code",
   "execution_count": 22,
   "id": "bf426d57-b7ae-405d-916a-f002f45e20f3",
   "metadata": {},
   "outputs": [],
   "source": [
    "class class2(class1):\n",
    "    def test_class_2(self):\n",
    "        return \"this is from class_2\""
   ]
  },
  {
   "cell_type": "code",
   "execution_count": 23,
   "id": "13ec0a4b-4c4b-4d94-8166-6a140b1d619e",
   "metadata": {},
   "outputs": [],
   "source": [
    "class class3(class2):\n",
    "    pass"
   ]
  },
  {
   "cell_type": "code",
   "execution_count": 24,
   "id": "4b091544-2f99-42c0-9c18-30cb1da7b7a9",
   "metadata": {},
   "outputs": [],
   "source": [
    "obj_class3 = class3()"
   ]
  },
  {
   "cell_type": "code",
   "execution_count": 25,
   "id": "30986dca-e299-4aea-8e4f-378182d21066",
   "metadata": {},
   "outputs": [
    {
     "data": {
      "text/plain": [
       "'this is from class_1'"
      ]
     },
     "execution_count": 25,
     "metadata": {},
     "output_type": "execute_result"
    }
   ],
   "source": [
    "obj_class3.test_class_1()"
   ]
  },
  {
   "cell_type": "code",
   "execution_count": 26,
   "id": "67b3bddb-ea84-4f8d-a2a0-135ebab57332",
   "metadata": {},
   "outputs": [
    {
     "data": {
      "text/plain": [
       "'this is from class_2'"
      ]
     },
     "execution_count": 26,
     "metadata": {},
     "output_type": "execute_result"
    }
   ],
   "source": [
    "obj_class3.test_class_2()"
   ]
  },
  {
   "cell_type": "markdown",
   "id": "b8c88f80-3107-443b-a2d4-2b9966136e4b",
   "metadata": {},
   "source": [
    "#MULTIPLE INHERITANCE"
   ]
  },
  {
   "cell_type": "code",
   "execution_count": 31,
   "id": "57fdabf9-ed19-4b54-ba8e-9615d0701a9b",
   "metadata": {},
   "outputs": [],
   "source": [
    "class class__1:\n",
    "    def class1(self):\n",
    "        return \"THIS IS A METHOD FROM CLASS1\""
   ]
  },
  {
   "cell_type": "code",
   "execution_count": 32,
   "id": "8ccac5bd-a70e-4102-b7f3-4b5b1c18acef",
   "metadata": {},
   "outputs": [],
   "source": [
    "class class__2:\n",
    "    def class2(self):\n",
    "        return \"THIS IS A METHOD FROM CLASS2\""
   ]
  },
  {
   "cell_type": "code",
   "execution_count": 33,
   "id": "24226f71-611a-4e8a-a142-1d6be85c778c",
   "metadata": {},
   "outputs": [],
   "source": [
    "class class__3(class__1 , class__2):\n",
    "    pass"
   ]
  },
  {
   "cell_type": "code",
   "execution_count": 34,
   "id": "1efb4d44-6033-40cc-ad34-803a316acdda",
   "metadata": {},
   "outputs": [],
   "source": [
    "obj_class__3 = class__3()"
   ]
  },
  {
   "cell_type": "code",
   "execution_count": 35,
   "id": "74c59cb4-1585-46e1-81b8-9e8cbc16cb4d",
   "metadata": {},
   "outputs": [
    {
     "data": {
      "text/plain": [
       "'THIS IS A METHOD FROM CLASS1'"
      ]
     },
     "execution_count": 35,
     "metadata": {},
     "output_type": "execute_result"
    }
   ],
   "source": [
    "obj_class__3.class1()"
   ]
  },
  {
   "cell_type": "code",
   "execution_count": 36,
   "id": "5e344e66-c59c-4daa-878c-303b419c04f0",
   "metadata": {},
   "outputs": [
    {
     "data": {
      "text/plain": [
       "'THIS IS A METHOD FROM CLASS2'"
      ]
     },
     "execution_count": 36,
     "metadata": {},
     "output_type": "execute_result"
    }
   ],
   "source": [
    "obj_class__3.class2()"
   ]
  },
  {
   "cell_type": "code",
   "execution_count": null,
   "id": "c52ae25e-bc90-4b11-9779-edbfa23c52c9",
   "metadata": {},
   "outputs": [],
   "source": []
  }
 ],
 "metadata": {
  "kernelspec": {
   "display_name": "Python 3 (ipykernel)",
   "language": "python",
   "name": "python3"
  },
  "language_info": {
   "codemirror_mode": {
    "name": "ipython",
    "version": 3
   },
   "file_extension": ".py",
   "mimetype": "text/x-python",
   "name": "python",
   "nbconvert_exporter": "python",
   "pygments_lexer": "ipython3",
   "version": "3.10.8"
  }
 },
 "nbformat": 4,
 "nbformat_minor": 5
}
