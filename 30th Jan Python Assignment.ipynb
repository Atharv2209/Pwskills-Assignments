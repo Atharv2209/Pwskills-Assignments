{
 "cells": [
  {
   "cell_type": "markdown",
   "id": "18934bd0-eee4-411c-a074-707b2a9dc2d1",
   "metadata": {},
   "source": [
    "Q1. Write a program to accept percentage from the user and display the grade according to the following criteria:"
   ]
  },
  {
   "cell_type": "raw",
   "id": "91e30fd5-4d2b-41f4-b669-982773324bd0",
   "metadata": {},
   "source": [
    "Marks                Grade\n",
    ">90                  A\n",
    ">80 and <=90         B\n",
    ">=60 and <=80        C\n",
    "below 60             D"
   ]
  },
  {
   "cell_type": "markdown",
   "id": "5b96393d-33fe-4203-88b7-1d615f84dbc4",
   "metadata": {},
   "source": [
    "Solution:"
   ]
  },
  {
   "cell_type": "code",
   "execution_count": 4,
   "id": "ddb42c57-9a42-4917-a4ac-290f84f5f1ec",
   "metadata": {},
   "outputs": [
    {
     "name": "stdin",
     "output_type": "stream",
     "text": [
      "Enter your Marks: 100\n"
     ]
    },
    {
     "name": "stdout",
     "output_type": "stream",
     "text": [
      "Grade A\n"
     ]
    }
   ],
   "source": [
    "Marks = int(input(\"Enter your Marks:\"))\n",
    "\n",
    "if Marks > 90:\n",
    "    print(\"Grade A\")\n",
    "    \n",
    "elif Marks > 80 and Marks <= 90:\n",
    "    print(\"Grade B\")\n",
    "    \n",
    "elif Marks >= 60 and Marks <= 80:\n",
    "    print(\"Grade C\")\n",
    "    \n",
    "elif Marks < 60:\n",
    "    print(\"Grade D\")"
   ]
  },
  {
   "cell_type": "code",
   "execution_count": 5,
   "id": "d4015975-5ff6-419d-8736-f5b232c9e072",
   "metadata": {},
   "outputs": [
    {
     "name": "stdin",
     "output_type": "stream",
     "text": [
      "Enter your Marks: 85\n"
     ]
    },
    {
     "name": "stdout",
     "output_type": "stream",
     "text": [
      "Grade B\n"
     ]
    }
   ],
   "source": [
    "Marks = int(input(\"Enter your Marks:\"))\n",
    "\n",
    "if Marks > 90:\n",
    "    print(\"Grade A\")\n",
    "    \n",
    "elif Marks > 80 and Marks <= 90:\n",
    "    print(\"Grade B\")\n",
    "    \n",
    "elif Marks >= 60 and Marks <= 80:\n",
    "    print(\"Grade C\")\n",
    "    \n",
    "elif Marks < 60:\n",
    "    print(\"Grade D\")"
   ]
  },
  {
   "cell_type": "code",
   "execution_count": 6,
   "id": "2535d5ad-b41c-448a-9e05-0d856a95098d",
   "metadata": {},
   "outputs": [
    {
     "name": "stdin",
     "output_type": "stream",
     "text": [
      "Enter your Marks: 70\n"
     ]
    },
    {
     "name": "stdout",
     "output_type": "stream",
     "text": [
      "Grade C\n"
     ]
    }
   ],
   "source": [
    "Marks = int(input(\"Enter your Marks:\"))\n",
    "\n",
    "if Marks > 90:\n",
    "    print(\"Grade A\")\n",
    "    \n",
    "elif Marks > 80 and Marks <= 90:\n",
    "    print(\"Grade B\")\n",
    "    \n",
    "elif Marks >= 60 and Marks <= 80:\n",
    "    print(\"Grade C\")\n",
    "    \n",
    "elif Marks < 60:\n",
    "    print(\"Grade D\")"
   ]
  },
  {
   "cell_type": "code",
   "execution_count": 7,
   "id": "76e1a744-2bd9-4f21-94e0-7b8b3630e378",
   "metadata": {},
   "outputs": [
    {
     "name": "stdin",
     "output_type": "stream",
     "text": [
      "Enter your Marks: 50\n"
     ]
    },
    {
     "name": "stdout",
     "output_type": "stream",
     "text": [
      "Grade D\n"
     ]
    }
   ],
   "source": [
    "Marks = int(input(\"Enter your Marks:\"))\n",
    "\n",
    "if Marks > 90:\n",
    "    print(\"Grade A\")\n",
    "    \n",
    "elif Marks > 80 and Marks <= 90:\n",
    "    print(\"Grade B\")\n",
    "    \n",
    "elif Marks >= 60 and Marks <= 80:\n",
    "    print(\"Grade C\")\n",
    "    \n",
    "elif Marks < 60:\n",
    "    print(\"Grade D\")"
   ]
  },
  {
   "cell_type": "markdown",
   "id": "53eec635-b56e-4e4b-abec-28db2a7c52aa",
   "metadata": {},
   "source": [
    "Q2. Write a program to accept the cost price of a bike and display the road tax to be paid according to the following criteria:"
   ]
  },
  {
   "cell_type": "raw",
   "id": "5044c70c-852e-4931-a9d8-c6e6d9707c04",
   "metadata": {},
   "source": [
    "Tax            Cost Price(in Rs)\n",
    "15%            >100000\n",
    "10%            >50000 and <=100000\n",
    "5%             <=50000"
   ]
  },
  {
   "cell_type": "markdown",
   "id": "29e04c5b-08d5-4b96-a193-e6285c20048a",
   "metadata": {},
   "source": [
    "Solution:"
   ]
  },
  {
   "cell_type": "code",
   "execution_count": 10,
   "id": "c7e4bf2f-ae5e-4e59-a71d-85635a1860fe",
   "metadata": {},
   "outputs": [
    {
     "name": "stdin",
     "output_type": "stream",
     "text": [
      "Enter your cost price(in Rs) 99999\n"
     ]
    },
    {
     "name": "stdout",
     "output_type": "stream",
     "text": [
      "You have to pay 10% Tax\n"
     ]
    }
   ],
   "source": [
    "price = int(input(\"Enter your cost price(in Rs)\"))\n",
    "\n",
    "if price > 100000:\n",
    "    print(\"You have to pay 15% Tax\")\n",
    "    \n",
    "elif price > 50000 and price <= 100000:\n",
    "    print(\"You have to pay 10% Tax\")\n",
    "    \n",
    "elif price <= 50000:\n",
    "    print(\"You have to pay 5% Tax\")"
   ]
  },
  {
   "cell_type": "markdown",
   "id": "159108d5-90a5-4ce1-81b4-04c89ab487d7",
   "metadata": {},
   "source": [
    "Q3. Accept any city from the user and display the monuments of that city."
   ]
  },
  {
   "cell_type": "raw",
   "id": "7795a45a-4462-48bf-a0fb-8da27d6df588",
   "metadata": {},
   "source": [
    "City                  Monument\n",
    "Delhi                 Red Fort\n",
    "Agra                  Taj Mahal\n",
    "Jaipur                Jal Mahal"
   ]
  },
  {
   "cell_type": "markdown",
   "id": "d16f57ba-6ff6-4bc4-9c30-9a752763c7e0",
   "metadata": {},
   "source": [
    "Solution:"
   ]
  },
  {
   "cell_type": "code",
   "execution_count": 17,
   "id": "c006aff3-a8c6-479a-ba74-1d1af3e19dab",
   "metadata": {},
   "outputs": [
    {
     "name": "stdin",
     "output_type": "stream",
     "text": [
      "Enter city Agra\n"
     ]
    },
    {
     "name": "stdout",
     "output_type": "stream",
     "text": [
      "Monument in Agra is Taj Mahal\n"
     ]
    }
   ],
   "source": [
    "city = input(\"Enter city\")\n",
    "\n",
    "if city == \"Delhi\":\n",
    "    print(\"Monument in Delhi is Red Fort\")\n",
    "\n",
    "elif city == \"Agra\":\n",
    "    print(\"Monument in Agra is Taj Mahal\")\n",
    "    \n",
    "elif city == \"Jaipur\":\n",
    "    print(\"Monument in Jaipur is Jal Mahal\")"
   ]
  },
  {
   "cell_type": "markdown",
   "id": "2007c4b4-35d4-4084-a4a7-bb8e6022c88a",
   "metadata": {},
   "source": [
    "Q4. Check how many times a given number can be divided by 3 before it is less than or equal to 10."
   ]
  },
  {
   "cell_type": "markdown",
   "id": "464fce6c-3630-467d-a3f1-d884c35dd816",
   "metadata": {},
   "source": [
    "Solution:"
   ]
  },
  {
   "cell_type": "code",
   "execution_count": 31,
   "id": "4cb975b5-9a98-48bb-a419-c79e9d781c7b",
   "metadata": {},
   "outputs": [
    {
     "name": "stdout",
     "output_type": "stream",
     "text": [
      "9.0\n",
      "The given number can be divided by 3, 3 times before it is less than or equal to 10.\n"
     ]
    }
   ],
   "source": [
    "num = 243\n",
    "count = 0\n",
    "\n",
    "while num > 10:\n",
    "    num /= 3\n",
    "    count = count + 1\n",
    "\n",
    "print(num)\n",
    "print(\"The given number can be divided by 3,\", count, \"times before it is less than or equal to 10.\")"
   ]
  },
  {
   "cell_type": "markdown",
   "id": "745ac427-cbe0-400f-931d-048655091b90",
   "metadata": {},
   "source": [
    "Q5. Why and When to use while loop in Python. Give a detailed description with example."
   ]
  },
  {
   "cell_type": "markdown",
   "id": "be2e79bc-eeed-4975-9d51-df1a4da2f26a",
   "metadata": {},
   "source": [
    "Solution:\n",
    "    -  Here are some scenarios where you may want to use a while loop in Python\n",
    "    \n",
    "    1. When you need to perform an operation repeatedly until a certain condition is met.\n",
    "    \n",
    "    2. When you want to iterate through a sequence of items and perform an operation on each item.\n",
    "    \n",
    "    3. When you need to perform a specific task a certain number of times."
   ]
  },
  {
   "cell_type": "markdown",
   "id": "6f2f37da-980f-4d84-953e-ca8a1b138eb0",
   "metadata": {},
   "source": [
    "Example:"
   ]
  },
  {
   "cell_type": "code",
   "execution_count": 5,
   "id": "fdbad74b-c39e-4b87-b500-a897d96f3a19",
   "metadata": {},
   "outputs": [
    {
     "name": "stdout",
     "output_type": "stream",
     "text": [
      "1\n",
      "2\n",
      "3\n",
      "4\n",
      "5\n"
     ]
    }
   ],
   "source": [
    "l = [1,2,3,4,5]\n",
    "i = 0 \n",
    "\n",
    "while i < len(l):\n",
    "    print(l[i])\n",
    "    i = i + 1"
   ]
  },
  {
   "cell_type": "markdown",
   "id": "52ecf1a5-f8ba-4c01-8cd1-5c6b4cad424c",
   "metadata": {},
   "source": [
    "Q6. Use nested while loop to print 3 different pattern."
   ]
  },
  {
   "cell_type": "markdown",
   "id": "e966d404-d903-4fdb-9838-59c47a4359a9",
   "metadata": {},
   "source": [
    "Solution:"
   ]
  },
  {
   "cell_type": "markdown",
   "id": "c153260e-2d04-426b-b449-2c561aace3fe",
   "metadata": {},
   "source": [
    "Pattern 1:"
   ]
  },
  {
   "cell_type": "code",
   "execution_count": 15,
   "id": "69d5fe77-6f4e-4da8-8acb-acaca4fba574",
   "metadata": {},
   "outputs": [
    {
     "name": "stdout",
     "output_type": "stream",
     "text": [
      "1\n",
      "22\n",
      "333\n",
      "4444\n",
      "55555\n"
     ]
    }
   ],
   "source": [
    "num = 1\n",
    "\n",
    "while num <=  5:\n",
    "    count = 1\n",
    "    while count <= num:\n",
    "        print(num, end=\"\")\n",
    "        count = count+1\n",
    "    print()    \n",
    "    num = num+1"
   ]
  },
  {
   "cell_type": "markdown",
   "id": "ce558470-15d7-4e67-950b-b6ca65ce63ae",
   "metadata": {},
   "source": [
    "Pattern 2:"
   ]
  },
  {
   "cell_type": "code",
   "execution_count": 14,
   "id": "fb3773cc-4ad0-47ca-98f3-a6983f37c546",
   "metadata": {},
   "outputs": [
    {
     "name": "stdout",
     "output_type": "stream",
     "text": [
      "1\n",
      "23\n",
      "456\n",
      "78910\n"
     ]
    }
   ],
   "source": [
    "num = 1\n",
    "count = 1\n",
    "while num <= 4:\n",
    "    inner_count = 1\n",
    "    while inner_count <= num:\n",
    "        print(count, end=\"\")\n",
    "        count += 1\n",
    "        inner_count += 1\n",
    "    print()\n",
    "    num = num+1"
   ]
  },
  {
   "cell_type": "markdown",
   "id": "d9a6dcbc-993b-4046-b986-6df32ff1d443",
   "metadata": {},
   "source": [
    "Pattern 3:"
   ]
  },
  {
   "cell_type": "code",
   "execution_count": 13,
   "id": "658074c1-f973-4ddb-a2c9-a6abbf97653f",
   "metadata": {},
   "outputs": [
    {
     "name": "stdout",
     "output_type": "stream",
     "text": [
      "*\n",
      "**\n",
      "***\n",
      "****\n",
      "*****\n"
     ]
    }
   ],
   "source": [
    "num = 1\n",
    "while num <= 5:\n",
    "    count = 1\n",
    "    while count <= num:\n",
    "        print(\"*\", end=\"\")\n",
    "        count += 1\n",
    "    print()\n",
    "    num = num+1"
   ]
  },
  {
   "cell_type": "markdown",
   "id": "e715a1c6-9280-46e9-b147-3bad111817bf",
   "metadata": {},
   "source": [
    "Q7. Reverse a while loop to display numbers from 10 to 1."
   ]
  },
  {
   "cell_type": "markdown",
   "id": "c886f3e6-1ae2-4253-89dd-f27356401651",
   "metadata": {},
   "source": [
    "Solution:"
   ]
  },
  {
   "cell_type": "code",
   "execution_count": 16,
   "id": "f160e09d-0673-41cb-9317-bc9714476c57",
   "metadata": {},
   "outputs": [
    {
     "name": "stdout",
     "output_type": "stream",
     "text": [
      "10\n",
      "9\n",
      "8\n",
      "7\n",
      "6\n",
      "5\n",
      "4\n",
      "3\n",
      "2\n",
      "1\n"
     ]
    }
   ],
   "source": [
    "num = 10\n",
    "while num >= 1:\n",
    "    print(num)\n",
    "    num = num - 1"
   ]
  },
  {
   "cell_type": "markdown",
   "id": "13a52a3b-0791-4aec-9bcd-40cc4bb855c6",
   "metadata": {},
   "source": [
    "Q8. Reverse a while loop to display numbers from 10 to 1."
   ]
  },
  {
   "cell_type": "markdown",
   "id": "bf172958-bbcc-4b05-a323-2cea91c7e193",
   "metadata": {},
   "source": [
    "Solution:"
   ]
  },
  {
   "cell_type": "code",
   "execution_count": 20,
   "id": "9bca2907-f7bb-4df9-ad9d-53f84e743405",
   "metadata": {},
   "outputs": [
    {
     "name": "stdout",
     "output_type": "stream",
     "text": [
      "10\n",
      "9\n",
      "8\n",
      "7\n",
      "6\n",
      "5\n",
      "4\n",
      "3\n",
      "2\n",
      "1\n"
     ]
    }
   ],
   "source": [
    "num = 10\n",
    "while num >= 1:\n",
    "    print(num)\n",
    "    num = num - 1"
   ]
  },
  {
   "cell_type": "code",
   "execution_count": null,
   "id": "3d365855-e8ba-4128-9425-3ffca7ad915b",
   "metadata": {},
   "outputs": [],
   "source": []
  }
 ],
 "metadata": {
  "kernelspec": {
   "display_name": "Python 3 (ipykernel)",
   "language": "python",
   "name": "python3"
  },
  "language_info": {
   "codemirror_mode": {
    "name": "ipython",
    "version": 3
   },
   "file_extension": ".py",
   "mimetype": "text/x-python",
   "name": "python",
   "nbconvert_exporter": "python",
   "pygments_lexer": "ipython3",
   "version": "3.10.8"
  }
 },
 "nbformat": 4,
 "nbformat_minor": 5
}
