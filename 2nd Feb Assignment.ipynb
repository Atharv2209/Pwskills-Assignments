{
 "cells": [
  {
   "cell_type": "markdown",
   "id": "50a8d9aa-c431-4f14-9143-2510dcc686b4",
   "metadata": {},
   "source": [
    "Q1. Explain with an example each when to use a for loop and a while loop."
   ]
  },
  {
   "cell_type": "markdown",
   "id": "acbf661b-5ecb-47da-a7bb-0f9b13ccf29f",
   "metadata": {},
   "source": [
    "Use a for loop to iterate over an array.\n",
    "Use a for loop when you know the loop should execute n times.\n",
    "Use a while loop for reading a file into a variable.\n",
    "Use a while loop when asking for user input.\n",
    "Use a while loop when the increment value is nonstandard."
   ]
  },
  {
   "cell_type": "code",
   "execution_count": null,
   "id": "37247aa5-f2f1-48f5-b427-30fbf6a527b7",
   "metadata": {},
   "outputs": [],
   "source": [
    "#e.g. for loop"
   ]
  },
  {
   "cell_type": "code",
   "execution_count": 1,
   "id": "91028e87-b7fe-4325-8dd3-7285361af6a8",
   "metadata": {},
   "outputs": [],
   "source": [
    "l = [1,2,3,4,5]"
   ]
  },
  {
   "cell_type": "code",
   "execution_count": 2,
   "id": "40dcc404-4e5c-45fa-99fe-bcb2d34421b0",
   "metadata": {},
   "outputs": [
    {
     "name": "stdout",
     "output_type": "stream",
     "text": [
      "1\n",
      "2\n",
      "3\n",
      "4\n",
      "5\n"
     ]
    }
   ],
   "source": [
    "for i in l:\n",
    "    print(i)"
   ]
  },
  {
   "cell_type": "code",
   "execution_count": 3,
   "id": "e224055d-a2a2-45d6-95c5-6a683f4e7b7b",
   "metadata": {},
   "outputs": [],
   "source": [
    "#e.g. while loop"
   ]
  },
  {
   "cell_type": "code",
   "execution_count": 4,
   "id": "986c65bd-f62b-4f51-838e-f4384238842f",
   "metadata": {},
   "outputs": [
    {
     "name": "stdout",
     "output_type": "stream",
     "text": [
      "1\n",
      "2\n",
      "3\n",
      "4\n",
      "5\n",
      "6\n",
      "7\n",
      "8\n",
      "9\n"
     ]
    }
   ],
   "source": [
    "i = 1\n",
    "while i < 10 :\n",
    "    print(i)\n",
    "    i += 1"
   ]
  },
  {
   "cell_type": "markdown",
   "id": "b1af58c2-10f6-4a43-a3f4-388005ed5909",
   "metadata": {},
   "source": [
    "Q2. Write a python program to print the sum and product of the first 10 natural numbers using for\n",
    "and while loop."
   ]
  },
  {
   "cell_type": "markdown",
   "id": "dca473ee-8b60-452c-9d8b-9d6a7274e70d",
   "metadata": {},
   "source": [
    "SOLUTION: SUM OF FIRST 10 NATURAL NUMBERS USING FOR LOOP"
   ]
  },
  {
   "cell_type": "code",
   "execution_count": 14,
   "id": "cdf07268-ec72-478e-85ff-ad5b5b3e10fb",
   "metadata": {},
   "outputs": [
    {
     "name": "stdout",
     "output_type": "stream",
     "text": [
      "55\n"
     ]
    }
   ],
   "source": [
    "add = 0\n",
    "for i in range(1,11):\n",
    "    add = add + i\n",
    "print(add)"
   ]
  },
  {
   "cell_type": "markdown",
   "id": "e077c624-d6e9-4d32-8dab-bc6694e7f0b2",
   "metadata": {},
   "source": [
    "SUM OF FIRST 10 NATURAL NUMBERS USING WHILE LOOP"
   ]
  },
  {
   "cell_type": "code",
   "execution_count": 1,
   "id": "445c682b-34a4-4fcd-86e3-16fc7c46fd15",
   "metadata": {},
   "outputs": [
    {
     "name": "stdout",
     "output_type": "stream",
     "text": [
      "55\n"
     ]
    }
   ],
   "source": [
    "i = 1\n",
    "add = 0\n",
    "while i < 11:\n",
    "    add = add + i\n",
    "    i = i+1\n",
    "print(add)    "
   ]
  },
  {
   "cell_type": "markdown",
   "id": "05b46dfc-bdd4-4835-8c03-86bb6be9f845",
   "metadata": {},
   "source": [
    "PRODUCT OF FIRST 10 NATURAL NUMBERS USING FOR LOOP"
   ]
  },
  {
   "cell_type": "code",
   "execution_count": 3,
   "id": "8a5e17ce-5e4d-401c-a3d5-3902f99569d0",
   "metadata": {},
   "outputs": [
    {
     "name": "stdout",
     "output_type": "stream",
     "text": [
      "3628800\n"
     ]
    }
   ],
   "source": [
    "product = 1\n",
    "for i in range(1,11):\n",
    "    product = product * i\n",
    "print(product)"
   ]
  },
  {
   "cell_type": "markdown",
   "id": "29db6322-cfc4-4661-8d4f-f5865d5f4ff1",
   "metadata": {},
   "source": [
    "PRODUCT OF FIRST 10 NATURAL NUMBERS USING WHILE LOOP"
   ]
  },
  {
   "cell_type": "code",
   "execution_count": 1,
   "id": "fcaf744c-c2ea-407c-a0fe-813e8a3545b8",
   "metadata": {},
   "outputs": [
    {
     "name": "stdout",
     "output_type": "stream",
     "text": [
      "3628800\n"
     ]
    }
   ],
   "source": [
    "i = 1\n",
    "product = 1\n",
    "while i < 11:\n",
    "    product = product * i\n",
    "    i = i+1\n",
    "print(product)"
   ]
  },
  {
   "cell_type": "markdown",
   "id": "252a69f2-da2e-4b30-87ee-1318fbdcad32",
   "metadata": {},
   "source": [
    "Q3. Create a python program to compute the electricity bill for a household.\n",
    "The per-unit charges in rupees are as follows: For the first 100 units, the user will be charged Rs. 4.5 per unit, for the next 100 units, the user will be charged Rs. 6 per unit, and for the next 100 units, the user will be charged Rs. 10 per unit, After 300 units and above the user will be charged Rs. 20 per unit.\n",
    "\n",
    "You are required to take the units of electricity consumed in a month from the user as input.\n",
    "\n",
    "Your program must pass this test case: when the unit of electricity consumed by the user in a month is\n",
    "310, the total electricity bill should be 2250."
   ]
  },
  {
   "cell_type": "code",
   "execution_count": 10,
   "id": "30edb97f-1bac-4dde-b063-9f53da8bc1b2",
   "metadata": {},
   "outputs": [
    {
     "name": "stdin",
     "output_type": "stream",
     "text": [
      "Please enter yout unit 410\n"
     ]
    },
    {
     "name": "stdout",
     "output_type": "stream",
     "text": [
      "Your electricity bill for this month is Rs.  4250.0\n"
     ]
    }
   ],
   "source": [
    "units= int(input(\"Please enter yout unit\"))\n",
    "if units <= 100:\n",
    "    bill = units * 4.5\n",
    "elif units <= 200:\n",
    "    bill = 100 * 4.5 + (units - 100) * 6\n",
    "elif units <= 300:\n",
    "    bill = 100 * 4.5 + 100 * 6 + (units - 200) * 10\n",
    "else:\n",
    "    bill = 100 * 4.5 + 100 * 6 + 100 * 10 + (units - 300) * 20\n",
    "print(\"Your electricity bill for this month is Rs. \", bill)"
   ]
  },
  {
   "cell_type": "markdown",
   "id": "e9a178b9-2825-4907-bfb9-c3dc09c30da9",
   "metadata": {},
   "source": [
    "Q4. Create a list of numbers from 1 to 100. Use for loop and while loop to calculate the cube of each\n",
    "number and if the cube of that number is divisible by 4 or 5 then append that number in a list and print\n",
    "that list."
   ]
  },
  {
   "cell_type": "code",
   "execution_count": 14,
   "id": "975dcfbc-f10f-4cdf-9fc5-79994ff54f98",
   "metadata": {},
   "outputs": [],
   "source": [
    "l = list(range(0,101))"
   ]
  },
  {
   "cell_type": "code",
   "execution_count": 15,
   "id": "718eb19b-1a80-4cf5-b756-bf793cc8eaa8",
   "metadata": {},
   "outputs": [
    {
     "data": {
      "text/plain": [
       "[0,\n",
       " 1,\n",
       " 2,\n",
       " 3,\n",
       " 4,\n",
       " 5,\n",
       " 6,\n",
       " 7,\n",
       " 8,\n",
       " 9,\n",
       " 10,\n",
       " 11,\n",
       " 12,\n",
       " 13,\n",
       " 14,\n",
       " 15,\n",
       " 16,\n",
       " 17,\n",
       " 18,\n",
       " 19,\n",
       " 20,\n",
       " 21,\n",
       " 22,\n",
       " 23,\n",
       " 24,\n",
       " 25,\n",
       " 26,\n",
       " 27,\n",
       " 28,\n",
       " 29,\n",
       " 30,\n",
       " 31,\n",
       " 32,\n",
       " 33,\n",
       " 34,\n",
       " 35,\n",
       " 36,\n",
       " 37,\n",
       " 38,\n",
       " 39,\n",
       " 40,\n",
       " 41,\n",
       " 42,\n",
       " 43,\n",
       " 44,\n",
       " 45,\n",
       " 46,\n",
       " 47,\n",
       " 48,\n",
       " 49,\n",
       " 50,\n",
       " 51,\n",
       " 52,\n",
       " 53,\n",
       " 54,\n",
       " 55,\n",
       " 56,\n",
       " 57,\n",
       " 58,\n",
       " 59,\n",
       " 60,\n",
       " 61,\n",
       " 62,\n",
       " 63,\n",
       " 64,\n",
       " 65,\n",
       " 66,\n",
       " 67,\n",
       " 68,\n",
       " 69,\n",
       " 70,\n",
       " 71,\n",
       " 72,\n",
       " 73,\n",
       " 74,\n",
       " 75,\n",
       " 76,\n",
       " 77,\n",
       " 78,\n",
       " 79,\n",
       " 80,\n",
       " 81,\n",
       " 82,\n",
       " 83,\n",
       " 84,\n",
       " 85,\n",
       " 86,\n",
       " 87,\n",
       " 88,\n",
       " 89,\n",
       " 90,\n",
       " 91,\n",
       " 92,\n",
       " 93,\n",
       " 94,\n",
       " 95,\n",
       " 96,\n",
       " 97,\n",
       " 98,\n",
       " 99,\n",
       " 100]"
      ]
     },
     "execution_count": 15,
     "metadata": {},
     "output_type": "execute_result"
    }
   ],
   "source": [
    "l"
   ]
  },
  {
   "cell_type": "code",
   "execution_count": 16,
   "id": "bf3ded7b-b333-4aea-b8db-c78483636d73",
   "metadata": {},
   "outputs": [
    {
     "name": "stdout",
     "output_type": "stream",
     "text": [
      "[2, 4, 5, 6, 8, 10, 12, 14, 15, 16, 18, 20, 22, 24, 25, 26, 28, 30, 32, 34, 35, 36, 38, 40, 42, 44, 45, 46, 48, 50, 52, 54, 55, 56, 58, 60, 62, 64, 65, 66, 68, 70, 72, 74, 75, 76, 78, 80, 82, 84, 85, 86, 88, 90, 92, 94, 95, 96, 98, 100]\n"
     ]
    }
   ],
   "source": [
    "cubes = []\n",
    "\n",
    "for i in range(1,101):\n",
    "    cube = i ** 3\n",
    "    if cube % 4 == 0 or cube % 5 == 0:\n",
    "        cubes.append(i)\n",
    "print(cubes)        "
   ]
  },
  {
   "cell_type": "markdown",
   "id": "a954f096-a4fe-4ddb-9237-a1efa58e6281",
   "metadata": {},
   "source": [
    "Q5. Write a program to filter count vowels in the below-given string.\n",
    "string = \"I want to become a data scientist\""
   ]
  },
  {
   "cell_type": "code",
   "execution_count": 17,
   "id": "9bfd9e11-0792-4cf0-bbbf-1604f8991b14",
   "metadata": {},
   "outputs": [],
   "source": [
    "s = \"i want to become data scientist\"\n",
    "vowels = [\"a\",\"e\",\"i\",\"o\",\"u\"]\n"
   ]
  },
  {
   "cell_type": "code",
   "execution_count": 19,
   "id": "ac45ac71-0401-45c3-9ad0-e165d3962f77",
   "metadata": {},
   "outputs": [
    {
     "name": "stdout",
     "output_type": "stream",
     "text": [
      "11\n"
     ]
    }
   ],
   "source": [
    "count = 0\n",
    "for i in s:\n",
    "    for j in vowels:\n",
    "        if i == j:\n",
    "            count = count + 1\n",
    "print(count)            "
   ]
  }
 ],
 "metadata": {
  "kernelspec": {
   "display_name": "Python 3 (ipykernel)",
   "language": "python",
   "name": "python3"
  },
  "language_info": {
   "codemirror_mode": {
    "name": "ipython",
    "version": 3
   },
   "file_extension": ".py",
   "mimetype": "text/x-python",
   "name": "python",
   "nbconvert_exporter": "python",
   "pygments_lexer": "ipython3",
   "version": "3.10.8"
  }
 },
 "nbformat": 4,
 "nbformat_minor": 5
}
