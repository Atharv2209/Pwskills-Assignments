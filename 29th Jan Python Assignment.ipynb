{
 "cells": [
  {
   "cell_type": "markdown",
   "id": "320d713d-d25e-4e71-a154-4669070bc02e",
   "metadata": {},
   "source": [
    "Q1. Who developed Python Programming Language?"
   ]
  },
  {
   "cell_type": "markdown",
   "id": "c492182c-3b11-413f-b6ed-1b18939ae206",
   "metadata": {},
   "source": [
    "Solution:\n",
    "    Guido van Rossum"
   ]
  },
  {
   "cell_type": "markdown",
   "id": "18a48859-eaf0-4b85-98b4-313a2d687b5a",
   "metadata": {},
   "source": [
    "Q2. Which type of Programming does Python support?"
   ]
  },
  {
   "cell_type": "markdown",
   "id": "ba08bcfe-a457-4074-8929-1722af97ddb6",
   "metadata": {},
   "source": [
    "Solution:\n",
    "     Object-oriented programming and structured programming"
   ]
  },
  {
   "cell_type": "markdown",
   "id": "64ac6399-5565-4cf9-b9ef-17676852e40e",
   "metadata": {},
   "source": [
    "Q3. Is Python case sensitive when dealing with identifiers?"
   ]
  },
  {
   "cell_type": "markdown",
   "id": "960084fc-6fad-41e4-92f7-9338696740c1",
   "metadata": {},
   "source": [
    "Solution:\n",
    "    Yes, Python is a case sensitive language when dealing with identifiers.\n",
    "    "
   ]
  },
  {
   "cell_type": "markdown",
   "id": "f5f7a78a-5727-4896-9e78-35a6c090f18e",
   "metadata": {},
   "source": [
    "Q4. What is the correct extension of the Python file?"
   ]
  },
  {
   "cell_type": "markdown",
   "id": "905bde48-ff37-417b-8f1d-d56aee7ce5d4",
   "metadata": {},
   "source": [
    "Solution:\n",
    "    .py"
   ]
  },
  {
   "cell_type": "markdown",
   "id": "b0ddffe6-65af-4da4-aadd-66e8fb94ba4c",
   "metadata": {},
   "source": [
    "Q5. Is Python code compiled or interpreted?"
   ]
  },
  {
   "cell_type": "markdown",
   "id": "b8bb95a4-725a-4404-849f-b0bb061ae1c6",
   "metadata": {},
   "source": [
    "Solution:\n",
    "    Python is an interpreted language and not a compiled one, although compilation is a step. Python code, written in .py file is first compiled to what is called bytecode which is stored with a .pyc or .pyo format."
   ]
  },
  {
   "cell_type": "markdown",
   "id": "65965356-db5a-405d-924e-b02def2d9e11",
   "metadata": {},
   "source": [
    "Q6. Name a few blocks of code used to define in Python language?"
   ]
  },
  {
   "cell_type": "markdown",
   "id": "5f46e6b9-774b-43db-899a-f1f60f67c95c",
   "metadata": {},
   "source": [
    "Solution:\n",
    "-  Function block\n",
    "-  Conditional block\n",
    "-  Loop block\n",
    "-  Class block"
   ]
  },
  {
   "cell_type": "markdown",
   "id": "0c2d0415-e034-4e43-ae3e-e0dfd5c1daca",
   "metadata": {},
   "source": [
    "Q7. State a character used to give single_line comments in Python?"
   ]
  },
  {
   "cell_type": "markdown",
   "id": "1f393f31-f0fb-4b47-ac6b-0ad9c5dc4f12",
   "metadata": {},
   "source": [
    "Solution: # character\n"
   ]
  },
  {
   "cell_type": "markdown",
   "id": "c8283233-3b6a-4a12-bd57-096335d12bb0",
   "metadata": {},
   "source": [
    "Q8. Mention functions which can help us to find the version of python that we are currently working on?"
   ]
  },
  {
   "cell_type": "markdown",
   "id": "1693e599-e82e-4403-95f2-f6c28538340a",
   "metadata": {},
   "source": [
    "Solution: sys.version"
   ]
  },
  {
   "cell_type": "code",
   "execution_count": 5,
   "id": "87ea65b0-5fa9-4015-bacb-577be473d1eb",
   "metadata": {},
   "outputs": [
    {
     "name": "stdout",
     "output_type": "stream",
     "text": [
      "3.10.8 | packaged by conda-forge | (main, Nov 22 2022, 08:26:04) [GCC 10.4.0]\n"
     ]
    }
   ],
   "source": [
    "import sys\n",
    "print(sys.version)"
   ]
  },
  {
   "cell_type": "markdown",
   "id": "40efacdf-f55b-4b7d-a0ac-341f15e9a076",
   "metadata": {},
   "source": [
    "Q9. Python supports the creation of anonymous functions at runtime, using a construct called _______"
   ]
  },
  {
   "cell_type": "markdown",
   "id": "09e25b9f-1207-45ba-8bf2-605a26ad0eb2",
   "metadata": {},
   "source": [
    "Solution:\n",
    "    lambda"
   ]
  },
  {
   "cell_type": "markdown",
   "id": "66ab1ccc-38c5-4ead-8219-6c652b2a4dca",
   "metadata": {},
   "source": [
    "Q10. What does pip stand for python?"
   ]
  },
  {
   "cell_type": "markdown",
   "id": "c0ccb864-0255-46a4-88df-7539cce3c4a6",
   "metadata": {},
   "source": [
    "Solution:\n",
    "    pip Install Packages"
   ]
  },
  {
   "cell_type": "markdown",
   "id": "d0b6fcb0-388a-4253-8b47-c06920cbd190",
   "metadata": {},
   "source": [
    "Q11. Mention a few built-in functions in Python?"
   ]
  },
  {
   "cell_type": "markdown",
   "id": "dedac69d-4d06-48a6-b03a-78188f96315d",
   "metadata": {},
   "source": [
    "Solution:\n",
    "-  print()\n",
    "-  len()\n",
    "-  input()\n",
    "-  range()\n",
    "-  type()\n",
    "-  str()\n",
    "-  int()\n",
    "-  float()\n",
    "-  list()\n",
    "-  tuple()\n",
    "-  dict()\n",
    "and many more"
   ]
  },
  {
   "cell_type": "markdown",
   "id": "fe324222-d3c1-4cdf-a5d4-fd768a0788a1",
   "metadata": {},
   "source": [
    "Q12. What is the maximum possible length of an identifier in Python?"
   ]
  },
  {
   "cell_type": "markdown",
   "id": "79720528-f201-4215-a589-6360c5d4bf0d",
   "metadata": {},
   "source": [
    "Solution:\n",
    "    An identifier can have a maximum length of 79 characters in Python."
   ]
  },
  {
   "cell_type": "markdown",
   "id": "c6eaa178-7ad9-4238-aa08-eb1c31472857",
   "metadata": {},
   "source": [
    "Q13. What are the benefits of using python?"
   ]
  },
  {
   "cell_type": "markdown",
   "id": "a78bda7c-bbc6-413f-9872-c31cf172f85b",
   "metadata": {},
   "source": [
    "Solution:\n",
    "-  Easy to Learn\n",
    "-  Large Standard Library\n",
    "-  Cross-Platform\n",
    "-  Dynamically Typed\n",
    "-  Wide Range of Applications\n",
    "-  Strong Community\n",
    "-  High-Level Language\n",
    "-  Interpreted Language"
   ]
  },
  {
   "cell_type": "markdown",
   "id": "2ef29e02-d733-41e6-8c36-f8ee366edf55",
   "metadata": {},
   "source": [
    "Q14. How is memory managed in Python?"
   ]
  },
  {
   "cell_type": "markdown",
   "id": "6d720546-5279-4fe7-b67c-1de4450b1c0e",
   "metadata": {},
   "source": [
    "Solution:\n",
    "    Memory management in Python is handled by the Python interpreter itself using a combination of techniques such as reference counting, garbage collection, and memory pooling."
   ]
  },
  {
   "cell_type": "markdown",
   "id": "36aa0510-87b7-480f-9086-034bae1e1f07",
   "metadata": {},
   "source": [
    "Q15. How to install Python on Windows and set path variables?"
   ]
  },
  {
   "cell_type": "markdown",
   "id": "cc737ae9-f557-4dae-a51c-d011361338fb",
   "metadata": {},
   "source": [
    "Solution:\n",
    "    Here are the steps to install Python on Windows and set the path variables:\n",
    "\n",
    "1. Download Python: Go to the official Python website (https://www.python.org/downloads/windows/) and download the latest version of Python for Windows. Choose the version that is compatible with your system architecture (32-bit or 64-bit).\n",
    "\n",
    "2. Install Python: Once the download is complete, run the installation file and follow the instructions to install Python on your system. Make sure to select the option to add Python to the system PATH during the installation process.\n",
    "\n",
    "3. Verify Installation: Once the installation is complete, open the command prompt (press Windows key + R, then type \"cmd\" and press Enter) and type python --version to verify that Python is installed on your system and to check the version number.\n",
    "\n",
    "4. Set Environment Variables: If the python command is not recognized in the command prompt, you may need to set the path variables manually. To do this, go to the Windows search bar and type \"Environment Variables\". Click on \"Edit the system environment variables\" and then click on the \"Environment Variables\" button. Under the \"System Variables\" section, scroll down and find the \"Path\" variable. Click on \"Edit\" and then click on \"New\". Type in the location of the Python installation directory (for example, C:\\Python39). Click \"OK\" to save the changes.\n",
    "\n",
    "5. Verify Path Variables: Open a new command prompt window and type python --version to verify that Python is recognized and the version number is displayed.\n",
    "\n",
    "That's it! You have successfully installed Python on your Windows system and set the path variables."
   ]
  },
  {
   "cell_type": "markdown",
   "id": "c6100483-6693-4ca0-9125-70bee550be04",
   "metadata": {},
   "source": [
    "Q16. Is indentation required in Python?"
   ]
  },
  {
   "cell_type": "markdown",
   "id": "d3f80f3e-cf2c-4190-8a49-c6b9bce98065",
   "metadata": {},
   "source": [
    "Solution:\n",
    "    Indentation is important to Python, because it's how you determine scope. Scope is how Python knows what code belongs to what part of the program."
   ]
  },
  {
   "cell_type": "code",
   "execution_count": null,
   "id": "b92b924d-664d-4a46-a09b-868c072f159e",
   "metadata": {},
   "outputs": [],
   "source": []
  }
 ],
 "metadata": {
  "kernelspec": {
   "display_name": "Python 3 (ipykernel)",
   "language": "python",
   "name": "python3"
  },
  "language_info": {
   "codemirror_mode": {
    "name": "ipython",
    "version": 3
   },
   "file_extension": ".py",
   "mimetype": "text/x-python",
   "name": "python",
   "nbconvert_exporter": "python",
   "pygments_lexer": "ipython3",
   "version": "3.10.8"
  }
 },
 "nbformat": 4,
 "nbformat_minor": 5
}
