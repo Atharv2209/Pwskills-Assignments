{
 "cells": [
  {
   "cell_type": "markdown",
   "id": "b5841a14-0437-4eae-91bc-582519738582",
   "metadata": {},
   "source": [
    "Q1. Create a vehicle class with an init method having instance variables as name_of_vehicle, max_speed\n",
    "and average_of_vehicle."
   ]
  },
  {
   "cell_type": "code",
   "execution_count": 40,
   "id": "6856a6e7-629b-4b45-8f37-8092d4021de2",
   "metadata": {},
   "outputs": [],
   "source": [
    "class vehicle:\n",
    "    \n",
    "    def __init__(self, name_of_vehicle, max_speed, average_of_vehicle):\n",
    "        self.name_of_vehicle = name_of_vehicle\n",
    "        self.max_speed = max_speed\n",
    "        self.average_of_vehicle = average_of_vehicle"
   ]
  },
  {
   "cell_type": "markdown",
   "id": "7f615037-6e07-4741-94ff-d347948cebb6",
   "metadata": {},
   "source": [
    "Q2. Create a child class car from the vehicle class created in Que 1, which will inherit the vehicle class.\n",
    "Create a method named seating_capacity which takes capacity as an argument and returns the name of\n",
    "the vehicle and its seating capacity."
   ]
  },
  {
   "cell_type": "code",
   "execution_count": 41,
   "id": "e9637a2b-ec2c-497b-b316-6269205446d1",
   "metadata": {},
   "outputs": [],
   "source": [
    "class child_car(vehicle):\n",
    "    \n",
    "    def seating_capacity(self,capacity):\n",
    "        return (self.name_of_vehicle, capacity)"
   ]
  },
  {
   "cell_type": "markdown",
   "id": "f181cf4a-fa1d-4107-93bc-38f105a816d2",
   "metadata": {},
   "source": [
    "Q3. What is multiple inheritance? Write a python code to demonstrate multiple inheritance."
   ]
  },
  {
   "cell_type": "markdown",
   "id": "c12fec64-091b-4bfc-a155-b228edf9cd4d",
   "metadata": {},
   "source": [
    "-  Multiple inheritance is a feature in object-oriented programming languages that allows a class to inherit properties and methods from multiple parent classes."
   ]
  },
  {
   "cell_type": "code",
   "execution_count": 44,
   "id": "e81b3045-e4b5-4027-a147-f05e1931ea68",
   "metadata": {},
   "outputs": [],
   "source": [
    "class A:\n",
    "    def method_a(self):\n",
    "        return \"Method A\""
   ]
  },
  {
   "cell_type": "code",
   "execution_count": 45,
   "id": "f9ef3f06-218b-467b-a0ab-be932cd95e6d",
   "metadata": {},
   "outputs": [],
   "source": [
    "class B:\n",
    "    def method_b(self):\n",
    "        return \"Method_B\""
   ]
  },
  {
   "cell_type": "code",
   "execution_count": 46,
   "id": "7b67fb2a-b506-439c-9545-4aa170b30ad5",
   "metadata": {},
   "outputs": [],
   "source": [
    "class C(A,B):\n",
    "    def method_c(self):\n",
    "        return \"Method C\""
   ]
  },
  {
   "cell_type": "code",
   "execution_count": 47,
   "id": "48965866-2fd4-4b3a-9cab-6c277c9dd97a",
   "metadata": {},
   "outputs": [],
   "source": [
    "obj_c = C()"
   ]
  },
  {
   "cell_type": "code",
   "execution_count": 48,
   "id": "8d7de186-eaa2-4a75-b1b0-ef601a94ecce",
   "metadata": {},
   "outputs": [
    {
     "data": {
      "text/plain": [
       "'Method A'"
      ]
     },
     "execution_count": 48,
     "metadata": {},
     "output_type": "execute_result"
    }
   ],
   "source": [
    "obj_c.method_a()"
   ]
  },
  {
   "cell_type": "code",
   "execution_count": 49,
   "id": "e97622f0-ca02-4ef9-a80b-e7374e44b86f",
   "metadata": {},
   "outputs": [
    {
     "data": {
      "text/plain": [
       "'Method_B'"
      ]
     },
     "execution_count": 49,
     "metadata": {},
     "output_type": "execute_result"
    }
   ],
   "source": [
    "obj_c.method_b()"
   ]
  },
  {
   "cell_type": "code",
   "execution_count": 50,
   "id": "9568f0c5-bfa9-4acc-b93b-e7baebbbcd4b",
   "metadata": {},
   "outputs": [
    {
     "data": {
      "text/plain": [
       "'Method C'"
      ]
     },
     "execution_count": 50,
     "metadata": {},
     "output_type": "execute_result"
    }
   ],
   "source": [
    "obj_c.method_c()"
   ]
  },
  {
   "cell_type": "markdown",
   "id": "0fd72025-e8a7-4b22-b34f-fd957d2c00ad",
   "metadata": {},
   "source": [
    "Q4. What are getter and setter in python? Create a class and create a getter and a setter method in this\n",
    "class."
   ]
  },
  {
   "cell_type": "markdown",
   "id": "4e349408-d948-44ad-99ac-d4d637a0e4bd",
   "metadata": {},
   "source": [
    "-  In Python, getters and setters are methods that provide access to an object's attributes by getting and setting their values, respectively. They are used to control the access to an object's attributes and to add extra validation or processing logic before the attribute is read or changed."
   ]
  },
  {
   "cell_type": "code",
   "execution_count": 57,
   "id": "8b58a1eb-397d-4699-99a9-7a912602dd83",
   "metadata": {},
   "outputs": [],
   "source": [
    "class person:\n",
    "    def __init__ (self, name, age):\n",
    "        self.name = name\n",
    "        self.__age = age\n",
    "        \n",
    "    def get_age(self):\n",
    "        return self.__age\n",
    "    \n",
    "    def set_age(self, age):\n",
    "        if age < 0:\n",
    "            return \"Age cannot be negative\"\n",
    "        self.__age = age"
   ]
  },
  {
   "cell_type": "code",
   "execution_count": 58,
   "id": "59d77e86-3b35-4cbd-90e4-20ffcaa3f19b",
   "metadata": {},
   "outputs": [],
   "source": [
    "PERSON = person(\"athu\", 22)"
   ]
  },
  {
   "cell_type": "code",
   "execution_count": 59,
   "id": "8f5ddcd2-f0c7-4f0a-9db6-c65387c4f9ac",
   "metadata": {},
   "outputs": [
    {
     "data": {
      "text/plain": [
       "22"
      ]
     },
     "execution_count": 59,
     "metadata": {},
     "output_type": "execute_result"
    }
   ],
   "source": [
    "PERSON.get_age()"
   ]
  },
  {
   "cell_type": "code",
   "execution_count": 60,
   "id": "29df2823-44eb-40f6-b258-a595703b4025",
   "metadata": {},
   "outputs": [],
   "source": [
    "PERSON.set_age(35)"
   ]
  },
  {
   "cell_type": "code",
   "execution_count": 61,
   "id": "9916d8eb-b2a7-4cca-bd1b-e88325a0886a",
   "metadata": {},
   "outputs": [
    {
     "data": {
      "text/plain": [
       "35"
      ]
     },
     "execution_count": 61,
     "metadata": {},
     "output_type": "execute_result"
    }
   ],
   "source": [
    "PERSON.get_age()"
   ]
  },
  {
   "cell_type": "code",
   "execution_count": 62,
   "id": "f7921e55-e158-4d0c-bcf8-510c09fe0409",
   "metadata": {},
   "outputs": [
    {
     "data": {
      "text/plain": [
       "'Age cannot be negative'"
      ]
     },
     "execution_count": 62,
     "metadata": {},
     "output_type": "execute_result"
    }
   ],
   "source": [
    "PERSON.set_age(-5)"
   ]
  },
  {
   "cell_type": "markdown",
   "id": "5a98b7ff-da6d-4ef3-9b8a-8e728649796e",
   "metadata": {},
   "source": [
    "Q5.What is method overriding in python? Write a python code to demonstrate method overriding."
   ]
  },
  {
   "cell_type": "markdown",
   "id": "94682734-25ff-4d8b-8299-e3a35e1e8ccc",
   "metadata": {},
   "source": [
    "-  Method overriding is a feature in object-oriented programming that allows a subclass to provide its own implementation of a method that is already defined in its parent class. When the same method is called on an object of the subclass, the overridden method in the subclass is called instead of the original method in the parent class.-  "
   ]
  },
  {
   "cell_type": "code",
   "execution_count": 63,
   "id": "55fa7570-7dd5-4b02-b227-afc640f31616",
   "metadata": {},
   "outputs": [],
   "source": [
    "class class1:\n",
    "    def test_class1(self):\n",
    "        return \"this is a meth from class1\"\n",
    "\n",
    "class class2(class1):\n",
    "    def test_class2(self):\n",
    "        return \"this is a meth from class2\"\n",
    "    \n",
    "class class3(class1):\n",
    "    def test_class3(self):\n",
    "        return \"this is a meth from class3\""
   ]
  },
  {
   "cell_type": "code",
   "execution_count": 64,
   "id": "d67abbbf-1364-4a20-86ee-3b92ab50c0c1",
   "metadata": {},
   "outputs": [],
   "source": [
    "C2 = class2()"
   ]
  },
  {
   "cell_type": "code",
   "execution_count": 66,
   "id": "f90e4fbe-34f5-43c8-810d-7149ae328150",
   "metadata": {},
   "outputs": [
    {
     "data": {
      "text/plain": [
       "'this is a meth from class2'"
      ]
     },
     "execution_count": 66,
     "metadata": {},
     "output_type": "execute_result"
    }
   ],
   "source": [
    "C2.test_class2()"
   ]
  },
  {
   "cell_type": "code",
   "execution_count": 67,
   "id": "2e8e3f97-f26e-452b-859b-38b852dfc81e",
   "metadata": {},
   "outputs": [],
   "source": [
    "C3 = class3()"
   ]
  },
  {
   "cell_type": "code",
   "execution_count": 68,
   "id": "d8510df2-90dd-4968-9cde-2cd836654bee",
   "metadata": {},
   "outputs": [
    {
     "data": {
      "text/plain": [
       "'this is a meth from class3'"
      ]
     },
     "execution_count": 68,
     "metadata": {},
     "output_type": "execute_result"
    }
   ],
   "source": [
    "C3.test_class3()"
   ]
  },
  {
   "cell_type": "code",
   "execution_count": null,
   "id": "3b10c22c-b1f7-4d9e-a4bf-2b512cdabf6b",
   "metadata": {},
   "outputs": [],
   "source": []
  }
 ],
 "metadata": {
  "kernelspec": {
   "display_name": "Python 3 (ipykernel)",
   "language": "python",
   "name": "python3"
  },
  "language_info": {
   "codemirror_mode": {
    "name": "ipython",
    "version": 3
   },
   "file_extension": ".py",
   "mimetype": "text/x-python",
   "name": "python",
   "nbconvert_exporter": "python",
   "pygments_lexer": "ipython3",
   "version": "3.10.8"
  }
 },
 "nbformat": 4,
 "nbformat_minor": 5
}
