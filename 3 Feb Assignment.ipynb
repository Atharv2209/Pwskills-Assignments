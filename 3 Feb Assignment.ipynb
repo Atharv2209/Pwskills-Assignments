{
 "cells": [
  {
   "cell_type": "markdown",
   "id": "eaccf1db-6463-4d6b-97ef-96f3358dca10",
   "metadata": {},
   "source": [
    "Q1. Which keyword is used to create a function? Create a function to return a list of odd numbers in the\n",
    "range of 1 to 25."
   ]
  },
  {
   "cell_type": "markdown",
   "id": "f1a49d03-4bcc-49a0-b1d9-2d692919270e",
   "metadata": {},
   "source": [
    "SOLUTION:\n",
    "\n",
    "-def is used to create a function"
   ]
  },
  {
   "cell_type": "code",
   "execution_count": 10,
   "id": "76ad6098-2da0-409b-bc9d-c88f10eed202",
   "metadata": {},
   "outputs": [],
   "source": [
    "def odd_numbers():\n",
    "    return [x for x in range(1,26) if x % 2 != 0]"
   ]
  },
  {
   "cell_type": "code",
   "execution_count": 11,
   "id": "235be914-4cde-4457-a5fe-b84647acd1b2",
   "metadata": {},
   "outputs": [
    {
     "data": {
      "text/plain": [
       "[1, 3, 5, 7, 9, 11, 13, 15, 17, 19, 21, 23, 25]"
      ]
     },
     "execution_count": 11,
     "metadata": {},
     "output_type": "execute_result"
    }
   ],
   "source": [
    "odd_numbers()"
   ]
  },
  {
   "cell_type": "markdown",
   "id": "3a142b41-19fe-4198-a742-45aca556866b",
   "metadata": {},
   "source": [
    "Q2. Why *args and **kwargs is used in some functions? Create a function each for *args and **kwargs to demonstrate their use."
   ]
  },
  {
   "cell_type": "markdown",
   "id": "585388be-00de-4572-9e90-17117947d3ba",
   "metadata": {},
   "source": [
    "SOLUTION:\n",
    "- *args is used to make function dynamic\n",
    "\n",
    "- you can pass n number of arguments in a function"
   ]
  },
  {
   "cell_type": "markdown",
   "id": "0228760d-7f90-45c1-835b-65d7a8040451",
   "metadata": {},
   "source": [
    "and"
   ]
  },
  {
   "cell_type": "markdown",
   "id": "755e8797-3379-427d-bd55-1b9b2c1e78e2",
   "metadata": {},
   "source": [
    "- **kwargs is used to get n number of data in key : value format or dictionary format"
   ]
  },
  {
   "cell_type": "code",
   "execution_count": 12,
   "id": "6ec46d48-4698-4c13-bc70-47aa16165175",
   "metadata": {},
   "outputs": [],
   "source": [
    "def test(*args):\n",
    "    return args"
   ]
  },
  {
   "cell_type": "code",
   "execution_count": 13,
   "id": "9c374172-46ec-41b6-bce7-fbc5209eee50",
   "metadata": {},
   "outputs": [
    {
     "data": {
      "text/plain": [
       "()"
      ]
     },
     "execution_count": 13,
     "metadata": {},
     "output_type": "execute_result"
    }
   ],
   "source": [
    "test()"
   ]
  },
  {
   "cell_type": "code",
   "execution_count": 14,
   "id": "023d4f51-78f7-445f-bdb0-8b0b9d95535d",
   "metadata": {},
   "outputs": [
    {
     "data": {
      "text/plain": [
       "(1, 2, 3, 'athu', 'pwskills')"
      ]
     },
     "execution_count": 14,
     "metadata": {},
     "output_type": "execute_result"
    }
   ],
   "source": [
    "test(1,2,3,\"athu\" , \"pwskills\")"
   ]
  },
  {
   "cell_type": "code",
   "execution_count": 15,
   "id": "d997a95b-ac29-4d1f-a042-148fe303117f",
   "metadata": {},
   "outputs": [],
   "source": [
    "def test1(**kwargs):\n",
    "    return kwargs"
   ]
  },
  {
   "cell_type": "code",
   "execution_count": 17,
   "id": "4bf9948f-a4b6-4add-9ac4-bb78b7c9f7d2",
   "metadata": {},
   "outputs": [
    {
     "data": {
      "text/plain": [
       "{}"
      ]
     },
     "execution_count": 17,
     "metadata": {},
     "output_type": "execute_result"
    }
   ],
   "source": [
    "test1()"
   ]
  },
  {
   "cell_type": "code",
   "execution_count": 18,
   "id": "8f161396-3156-4237-9da7-5dc319f04002",
   "metadata": {},
   "outputs": [
    {
     "data": {
      "text/plain": [
       "{'a': 'athu', 'b': [1, 2, 3], 'c': 12.34}"
      ]
     },
     "execution_count": 18,
     "metadata": {},
     "output_type": "execute_result"
    }
   ],
   "source": [
    "test1(a = \"athu\" , b = [1,2,3] , c = 12.34)"
   ]
  },
  {
   "cell_type": "markdown",
   "id": "22fff566-22c3-4b88-8cd6-25e588f1b04c",
   "metadata": {},
   "source": [
    "Q3. What is an iterator in python? Name the method used to initialise the iterator object and the method used for iteration. Use these methods to print the first five elements of the given list [2, 4, 6, 8, 10, 12, 14, 16, 18, 20]."
   ]
  },
  {
   "cell_type": "markdown",
   "id": "2f8c0e36-feb6-46fb-8bc4-29bf7f2eda11",
   "metadata": {},
   "source": [
    "SOLUTION:\n",
    "- An iterator in Python is an object that allows us to traverse through a collection of data, such as a list, tuple, or dictionary, one element at a time.\n",
    "\n",
    "- In Python, an iterator is an object that implements two methods: iter() and next()\n",
    "\n",
    "-  the iter() method is used to initialize the iterator object, while the next() method is used for iteration over the items of the iterator."
   ]
  },
  {
   "cell_type": "code",
   "execution_count": 22,
   "id": "c6c13466-62f4-406b-83d7-f2ee2e2cd632",
   "metadata": {},
   "outputs": [],
   "source": [
    "l = iter([2, 4, 6, 8, 10, 12, 14, 16, 18, 20])"
   ]
  },
  {
   "cell_type": "code",
   "execution_count": 23,
   "id": "818c5afa-e5af-4aca-a73b-2519d5ec6b9d",
   "metadata": {},
   "outputs": [
    {
     "name": "stdout",
     "output_type": "stream",
     "text": [
      "2\n",
      "4\n",
      "6\n",
      "8\n",
      "10\n"
     ]
    }
   ],
   "source": [
    "for i in range(5):\n",
    "    print(next(l))"
   ]
  },
  {
   "cell_type": "markdown",
   "id": "1da35f04-5cd2-4bff-abe0-056373628901",
   "metadata": {},
   "source": [
    "Q4. What is a generator function in python? Why yield keyword is used? Give an example of a generator function."
   ]
  },
  {
   "cell_type": "markdown",
   "id": "075049a8-af6e-4ebe-9027-1d974f4d5985",
   "metadata": {},
   "source": [
    "SOLUTION:\n",
    "\n",
    "-  A generator function in Python is a special type of function that can be used to create iterators in a more concise and efficient way than manually creating an iterator class.\n",
    "\n",
    "-  The yield keyword is used in a generator function to produce a value that can be iterated over by the caller."
   ]
  },
  {
   "cell_type": "code",
   "execution_count": 30,
   "id": "b1c03a50-5538-4700-803c-b45aa0d727ec",
   "metadata": {},
   "outputs": [
    {
     "name": "stdout",
     "output_type": "stream",
     "text": [
      "0\n",
      "2\n",
      "4\n",
      "6\n",
      "8\n"
     ]
    }
   ],
   "source": [
    "def even_numbers(n):\n",
    "    i = 0\n",
    "    while i < n:\n",
    "        yield i * 2\n",
    "        i += 1\n",
    "for j in even_numbers(5):\n",
    "    print(j)        "
   ]
  },
  {
   "cell_type": "markdown",
   "id": "5fea3f7f-bdb3-46e2-83bc-aa840fbe7d08",
   "metadata": {},
   "source": [
    "Q6. Write a python program to print the first 10 Fibonacci numbers using a while loop."
   ]
  },
  {
   "cell_type": "code",
   "execution_count": 33,
   "id": "de53b008-4c4d-468b-a58d-91bb4abae3f1",
   "metadata": {},
   "outputs": [
    {
     "name": "stdout",
     "output_type": "stream",
     "text": [
      "0\n",
      "1\n",
      "1\n",
      "2\n",
      "3\n",
      "5\n",
      "8\n",
      "13\n",
      "21\n",
      "34\n"
     ]
    }
   ],
   "source": [
    "a,b = 0,1\n",
    "count = 0 \n",
    "\n",
    "while count < 10:\n",
    "    print(a)\n",
    "    c = a+b\n",
    "    a = b\n",
    "    b = c\n",
    "    count += 1"
   ]
  },
  {
   "cell_type": "markdown",
   "id": "a7f08781-390d-4f5b-8558-4eee4bb9bfde",
   "metadata": {},
   "source": [
    "Q9. Write a code to print odd numbers from 1 to 100 using list comprehension."
   ]
  },
  {
   "cell_type": "code",
   "execution_count": 37,
   "id": "8675a639-b381-4628-979a-0e2cb1bebfe2",
   "metadata": {},
   "outputs": [],
   "source": [
    "l = range(1,100)"
   ]
  },
  {
   "cell_type": "code",
   "execution_count": 39,
   "id": "a51de0c4-a5c8-4c0c-9003-873305f9ce7b",
   "metadata": {},
   "outputs": [
    {
     "data": {
      "text/plain": [
       "[1,\n",
       " 3,\n",
       " 5,\n",
       " 7,\n",
       " 9,\n",
       " 11,\n",
       " 13,\n",
       " 15,\n",
       " 17,\n",
       " 19,\n",
       " 21,\n",
       " 23,\n",
       " 25,\n",
       " 27,\n",
       " 29,\n",
       " 31,\n",
       " 33,\n",
       " 35,\n",
       " 37,\n",
       " 39,\n",
       " 41,\n",
       " 43,\n",
       " 45,\n",
       " 47,\n",
       " 49,\n",
       " 51,\n",
       " 53,\n",
       " 55,\n",
       " 57,\n",
       " 59,\n",
       " 61,\n",
       " 63,\n",
       " 65,\n",
       " 67,\n",
       " 69,\n",
       " 71,\n",
       " 73,\n",
       " 75,\n",
       " 77,\n",
       " 79,\n",
       " 81,\n",
       " 83,\n",
       " 85,\n",
       " 87,\n",
       " 89,\n",
       " 91,\n",
       " 93,\n",
       " 95,\n",
       " 97,\n",
       " 99]"
      ]
     },
     "execution_count": 39,
     "metadata": {},
     "output_type": "execute_result"
    }
   ],
   "source": [
    "[i for i in l if i % 2 != 0]"
   ]
  },
  {
   "cell_type": "markdown",
   "id": "bf74c209-6c2e-41c8-a425-3184c44d0b04",
   "metadata": {},
   "source": [
    "Q8. Write a python program to check whether a given number is Palindrome or not using a while loop."
   ]
  },
  {
   "cell_type": "code",
   "execution_count": 41,
   "id": "34799960-4bd1-4cd6-b691-6584adb18d1c",
   "metadata": {},
   "outputs": [
    {
     "name": "stdin",
     "output_type": "stream",
     "text": [
      "Enter a number:  12321\n"
     ]
    },
    {
     "name": "stdout",
     "output_type": "stream",
     "text": [
      "The number is a palindrome.\n"
     ]
    }
   ],
   "source": [
    "number = int(input(\"Enter a number: \"))\n",
    "\n",
    "reverse = 0\n",
    "temp = number\n",
    "while temp > 0:\n",
    "    digit = temp % 10\n",
    "    reverse = reverse * 10 + digit\n",
    "    temp = temp // 10\n",
    "\n",
    "if number == reverse:\n",
    "    print(\"The number is a palindrome.\")\n",
    "else:\n",
    "    print(\"The number is not a palindrome.\")"
   ]
  },
  {
   "cell_type": "code",
   "execution_count": 42,
   "id": "5341e386-26f5-4924-ae1d-cb603808ad7d",
   "metadata": {},
   "outputs": [
    {
     "name": "stdin",
     "output_type": "stream",
     "text": [
      "Enter a number:  12344\n"
     ]
    },
    {
     "name": "stdout",
     "output_type": "stream",
     "text": [
      "The number is not a palindrome.\n"
     ]
    }
   ],
   "source": [
    "number = int(input(\"Enter a number: \"))\n",
    "\n",
    "reverse = 0\n",
    "temp = number\n",
    "while temp > 0:\n",
    "    digit = temp % 10\n",
    "    reverse = reverse * 10 + digit\n",
    "    temp = temp // 10\n",
    "\n",
    "if number == reverse:\n",
    "    print(\"The number is a palindrome.\")\n",
    "else:\n",
    "    print(\"The number is not a palindrome.\")"
   ]
  },
  {
   "cell_type": "markdown",
   "id": "41692bc2-7ba2-43ed-81f0-28120b914f31",
   "metadata": {},
   "source": [
    "Q7. Write a List Comprehension to iterate through the given string: ‘pwskills’.\n",
    "Expected output: ['p', 'w', 's', 'k', 'i', 'l', 'l', 's']"
   ]
  },
  {
   "cell_type": "code",
   "execution_count": 1,
   "id": "1d4a9188-eb90-4cd9-9b20-94640269011c",
   "metadata": {},
   "outputs": [],
   "source": [
    "s = \"pwskills\""
   ]
  },
  {
   "cell_type": "code",
   "execution_count": 2,
   "id": "2a6e8ae8-818f-4a76-9f0c-2957e95a1691",
   "metadata": {},
   "outputs": [
    {
     "data": {
      "text/plain": [
       "['p', 'w', 's', 'k', 'i', 'l', 'l', 's']"
      ]
     },
     "execution_count": 2,
     "metadata": {},
     "output_type": "execute_result"
    }
   ],
   "source": [
    "[i for i in s]"
   ]
  },
  {
   "cell_type": "markdown",
   "id": "9b4717ee-0ef1-4b76-84ee-cf3021325607",
   "metadata": {},
   "source": [
    "Q5. Create a generator function for prime numbers less than 1000. Use the next() method to print the\n",
    "first 20 prime numbers.    "
   ]
  },
  {
   "cell_type": "code",
   "execution_count": 16,
   "id": "f7a0b5ff-fff3-4641-ad8d-3673b08c85e5",
   "metadata": {},
   "outputs": [],
   "source": [
    "def primes():\n",
    "    yield 2\n",
    "    yield 3\n",
    "    prime_list = [2, 3]\n",
    "    num = 5\n",
    "    while num < 1000:\n",
    "        is_prime = True\n",
    "        for prime in prime_list:\n",
    "            if num % prime == 0:\n",
    "                is_prime = False\n",
    "                break\n",
    "        if is_prime:\n",
    "            yield num\n",
    "            prime_list.append(num)\n",
    "        num += 2"
   ]
  },
  {
   "cell_type": "code",
   "execution_count": 17,
   "id": "d4f2ef6d-f46d-4ee9-a0c6-429d6b3f4556",
   "metadata": {},
   "outputs": [
    {
     "data": {
      "text/plain": [
       "<generator object primes at 0x7f40422755b0>"
      ]
     },
     "execution_count": 17,
     "metadata": {},
     "output_type": "execute_result"
    }
   ],
   "source": [
    "primes()"
   ]
  },
  {
   "cell_type": "code",
   "execution_count": 18,
   "id": "97e09c40-2c40-483e-bd99-86e7512d2bcf",
   "metadata": {},
   "outputs": [],
   "source": [
    "prime_numbers = primes()"
   ]
  },
  {
   "cell_type": "code",
   "execution_count": 19,
   "id": "e2a249b9-a4c0-45e5-8f64-68999db9ed98",
   "metadata": {},
   "outputs": [
    {
     "name": "stdout",
     "output_type": "stream",
     "text": [
      "2\n",
      "3\n",
      "5\n",
      "7\n",
      "11\n",
      "13\n",
      "17\n",
      "19\n",
      "23\n",
      "29\n",
      "31\n",
      "37\n",
      "41\n",
      "43\n",
      "47\n",
      "53\n",
      "59\n",
      "61\n",
      "67\n",
      "71\n",
      "73\n",
      "79\n",
      "83\n",
      "89\n",
      "97\n",
      "101\n",
      "103\n",
      "107\n",
      "109\n",
      "113\n",
      "127\n",
      "131\n",
      "137\n",
      "139\n",
      "149\n",
      "151\n",
      "157\n",
      "163\n",
      "167\n",
      "173\n",
      "179\n",
      "181\n",
      "191\n",
      "193\n",
      "197\n",
      "199\n",
      "211\n",
      "223\n",
      "227\n",
      "229\n",
      "233\n",
      "239\n",
      "241\n",
      "251\n",
      "257\n",
      "263\n",
      "269\n",
      "271\n",
      "277\n",
      "281\n",
      "283\n",
      "293\n",
      "307\n",
      "311\n",
      "313\n",
      "317\n",
      "331\n",
      "337\n",
      "347\n",
      "349\n",
      "353\n",
      "359\n",
      "367\n",
      "373\n",
      "379\n",
      "383\n",
      "389\n",
      "397\n",
      "401\n",
      "409\n",
      "419\n",
      "421\n",
      "431\n",
      "433\n",
      "439\n",
      "443\n",
      "449\n",
      "457\n",
      "461\n",
      "463\n",
      "467\n",
      "479\n",
      "487\n",
      "491\n",
      "499\n",
      "503\n",
      "509\n",
      "521\n",
      "523\n",
      "541\n",
      "547\n",
      "557\n",
      "563\n",
      "569\n",
      "571\n",
      "577\n",
      "587\n",
      "593\n",
      "599\n",
      "601\n",
      "607\n",
      "613\n",
      "617\n",
      "619\n",
      "631\n",
      "641\n",
      "643\n",
      "647\n",
      "653\n",
      "659\n",
      "661\n",
      "673\n",
      "677\n",
      "683\n",
      "691\n",
      "701\n",
      "709\n",
      "719\n",
      "727\n",
      "733\n",
      "739\n",
      "743\n",
      "751\n",
      "757\n",
      "761\n",
      "769\n",
      "773\n",
      "787\n",
      "797\n",
      "809\n",
      "811\n",
      "821\n",
      "823\n",
      "827\n",
      "829\n",
      "839\n",
      "853\n",
      "857\n",
      "859\n",
      "863\n",
      "877\n",
      "881\n",
      "883\n",
      "887\n",
      "907\n",
      "911\n",
      "919\n",
      "929\n",
      "937\n",
      "941\n",
      "947\n",
      "953\n",
      "967\n",
      "971\n",
      "977\n",
      "983\n",
      "991\n",
      "997\n"
     ]
    }
   ],
   "source": [
    "for i in prime_numbers:\n",
    "    print(i)"
   ]
  },
  {
   "cell_type": "code",
   "execution_count": 24,
   "id": "e38bd3c6-75ea-46c3-9882-1d5b9190d457",
   "metadata": {},
   "outputs": [
    {
     "name": "stdout",
     "output_type": "stream",
     "text": [
      "2\n",
      "3\n",
      "5\n",
      "7\n",
      "11\n",
      "13\n",
      "17\n",
      "19\n",
      "23\n",
      "29\n",
      "31\n",
      "37\n",
      "41\n",
      "43\n",
      "47\n",
      "53\n",
      "59\n",
      "61\n",
      "67\n",
      "71\n"
     ]
    }
   ],
   "source": [
    "prime_numbers = primes()\n",
    "for i in range(20):\n",
    "    print(next(prime_numbers))"
   ]
  },
  {
   "cell_type": "code",
   "execution_count": null,
   "id": "34d47ae4-c866-42d9-b825-745ef5e4f583",
   "metadata": {},
   "outputs": [],
   "source": []
  }
 ],
 "metadata": {
  "kernelspec": {
   "display_name": "Python 3 (ipykernel)",
   "language": "python",
   "name": "python3"
  },
  "language_info": {
   "codemirror_mode": {
    "name": "ipython",
    "version": 3
   },
   "file_extension": ".py",
   "mimetype": "text/x-python",
   "name": "python",
   "nbconvert_exporter": "python",
   "pygments_lexer": "ipython3",
   "version": "3.10.8"
  }
 },
 "nbformat": 4,
 "nbformat_minor": 5
}
